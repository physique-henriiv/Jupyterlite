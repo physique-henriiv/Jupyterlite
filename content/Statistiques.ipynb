{
 "cells": [
  {
   "cell_type": "markdown",
   "metadata": {
    "editable": true,
    "jupyter": {
     "source_hidden": true
    },
    "slideshow": {
     "slide_type": ""
    },
    "tags": [
     "remove_cell"
    ]
   },
   "source": [
    "On commence par importer les bibliothèques nécessaires. Attention : NE PAS EFFACER !"
   ]
  },
  {
   "cell_type": "code",
   "execution_count": null,
   "metadata": {
    "editable": true,
    "jupyter": {
     "source_hidden": true
    },
    "slideshow": {
     "slide_type": ""
    },
    "tags": [
     "remove_cell"
    ]
   },
   "outputs": [],
   "source": [
    "from pylab import *    # charge toutes les bibliothèques scientifiques\n",
    "%matplotlib ipympl\n",
    "rcParams['figure.figsize'] = [16, 8]    # pour une fenetre graphique adaptée\n",
    "rcParams['font.size'] = 15    # pour un texte plus grand"
   ]
  },
  {
   "cell_type": "markdown",
   "metadata": {},
   "source": [
    "Importation de tableaux enregistrés localement en fichiers csv :"
   ]
  },
  {
   "cell_type": "code",
   "execution_count": null,
   "metadata": {
    "jupyter": {
     "source_hidden": true
    }
   },
   "outputs": [],
   "source": [
    "noms = True    # si le fichier csv contient les noms des variables, laisser True, sinon indiquer False\n",
    "tableau = genfromtxt('untitled.csv', delimiter=',', skip_header=0, names=noms)    # skip_header permet de ne pas lire les n premières lignes du fichier (utile si il y a des en-têtes) ; delimiter est le signe séparant les valeurs dans les différentes colonnes : par exemple, on peut parfois mettre delimiter=None si les séparateurs sont des espaces\n",
    "    \n",
    "if noms :    # dans le cas d'attribution automatique des noms\n",
    "    for i in tableau.dtype.names:    # pour chaque nom détecté en en-tete de colonnes\n",
    "        globals()[i] = tableau[i]    # on crée une variable qui porte le meme nom et on y attribue les valeurs de la colonne\n",
    "\n",
    "else :    # si on veut attribuer les noms manuellement\n",
    "    x = tableau[:, 0] # On enregistre la première colonne sous le nom x\n",
    "    y = tableau[:, 1] # On enregistre la deuxième colonne sous le nom y    # etc... s'il y a d'autres colonnes"
   ]
  },
  {
   "cell_type": "markdown",
   "metadata": {},
   "source": [
    "Calculs statistiques (moyenne et incertitude-type) sur une série de mesures x et tracé de l'histogramme :"
   ]
  },
  {
   "cell_type": "code",
   "execution_count": null,
   "metadata": {},
   "outputs": [],
   "source": [
    "mesures = x    # remplacer x par le nom de la variable à étudier\n",
    "\n",
    "moy = mean(mesures)\n",
    "ecartType = std(mesures, ddof=1)  # ddof=1 permet de calculer l'écart-type expérimental Sn-1\n",
    "incertitudeType = ecartType / sqrt(len(mesures))\n",
    "\n",
    "resultat = f\"moyenne : {moy:.5} ; incertitude-type : {incertitudeType:.5}\"    # crée une ligne de texte résumant les résultats\n",
    "print(resultat)    # affiche le résultat\n",
    "\n",
    "subplot(1, 1, 1)    # lignes, colonnes, numéro du graphique\n",
    "\n",
    "hist(mesures, bins=50, label=resultat)    # trace un histogramme à partir d'une série de mesures x ; options possibles : range=(,) et bins=nombre ou liste.\n",
    "\n",
    "grid()    # ajoute une grille\n",
    "legend()    # ajoute la légende au graphique\n",
    "title(\"\")    # mettre le titre désiré entre les guillemets\n",
    "xlabel(\"x\")    # mettre le nom de l'axe des abscisses entre les guillemets\n",
    "ylabel(\"Nombre de tirages\");    # mettre le nom de l'axe des ordonnées entre les guillemets. Le point-virgule final évite d'afficher un texte récapitulatif."
   ]
  }
 ],
 "metadata": {
  "kernelspec": {
   "display_name": "Python 3",
   "language": "python",
   "name": "python3"
  },
  "language_info": {
   "codemirror_mode": {
    "name": "ipython",
    "version": 3
   },
   "file_extension": ".py",
   "mimetype": "text/x-python",
   "name": "python",
   "nbconvert_exporter": "python",
   "pygments_lexer": "ipython3",
   "version": "3.11.4"
  },
  "widgets": {
   "application/vnd.jupyter.widget-state+json": {
    "state": {},
    "version_major": 2,
    "version_minor": 0
   }
  }
 },
 "nbformat": 4,
 "nbformat_minor": 4
}
