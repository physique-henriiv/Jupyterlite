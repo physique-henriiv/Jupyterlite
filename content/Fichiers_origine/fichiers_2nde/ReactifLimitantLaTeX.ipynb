{
 "cells": [
  {
   "cell_type": "markdown",
   "metadata": {
    "editable": true,
    "slideshow": {
     "slide_type": ""
    },
    "tags": []
   },
   "source": [
    "On commence par importer les bibliothèques nécessaires. Attention : NE PAS EFFACER !"
   ]
  },
  {
   "cell_type": "code",
   "execution_count": null,
   "metadata": {
    "editable": true,
    "jupyter": {
     "source_hidden": true
    },
    "slideshow": {
     "slide_type": ""
    },
    "tags": [
     "remove_cell"
    ]
   },
   "outputs": [],
   "source": [
    "from pylab import *    # charge toutes les bibliothèques scientifiques\n",
    "from IPython.display import Markdown\n",
    "%matplotlib ipympl\n",
    "rcParams['figure.figsize'] = [16, 8]    # pour une fenetre graphique adaptée\n",
    "rcParams['font.size'] = 20    # pour un texte plus grand dans les graphiques\n",
    "rcParams['text.usetex'] = True    # pour que le texte des graphiques soit rendu par LaTeX\n",
    "rcParams['font.family'] = \"serif\"    # pour que la police d'écriture dans les graphiques soit avec empatement"
   ]
  },
  {
   "cell_type": "markdown",
   "metadata": {},
   "source": [
    "L'équation de réaction chimique traitée est du type (à adapter en fonction du cas traité) :\n",
    "\n",
    "$$aA + bB \\rightarrow cC + dD$$\n",
    "\n",
    "Entrer les formules chimiques des espèces en présence :"
   ]
  },
  {
   "cell_type": "code",
   "execution_count": null,
   "metadata": {},
   "outputs": [],
   "source": [
    "A = \"\"\n",
    "B = \"\"\n",
    "C = \"\"\n",
    "D = \"\""
   ]
  },
  {
   "cell_type": "markdown",
   "metadata": {},
   "source": [
    "Entrer les nombres stoechiométriques de l'équation :"
   ]
  },
  {
   "cell_type": "code",
   "execution_count": null,
   "metadata": {},
   "outputs": [],
   "source": [
    "a = \n",
    "b = \n",
    "c = \n",
    "d = "
   ]
  },
  {
   "cell_type": "markdown",
   "metadata": {},
   "source": [
    "Entrer les quantités initiales de réactifs et de produits (en mol) :"
   ]
  },
  {
   "cell_type": "code",
   "execution_count": null,
   "metadata": {},
   "outputs": [],
   "source": [
    "nA = \n",
    "nB = \n",
    "nC = \n",
    "nD = "
   ]
  },
  {
   "cell_type": "raw",
   "metadata": {
    "jupyter": {
     "source_hidden": true
    }
   },
   "source": [
    "La notation entre crochets représente des listes d'éléments en python :\n",
    "listex=[x] est une liste contenant un seul élément (x) et nommée listex.\n",
    "La fonction append (listex.append(x)) ajoute un élément à la fin de la liste : ici l'élément x est ajouté à la fin de la liste listex.\n",
    "\n",
    "La notation entre guillemets \"\" représente un texte (conclusion=\"\" est une chaîne de caractères vide appelée conclusion).\n",
    "On peut y ajouter des éléments de texte comme on fait une addition : conclusion+=\"la suite\" ajoute le texte \"la suite\" à la fin de la chaîne conclusion.\n",
    "Le symbole f devant les guillemets permet de remplacer le nom d'une variable placée entre accolades {} par la valeur de cette variable.\n",
    "Dans les chaînes de caractères, on peut placer des équations utilisant la syntaxe LaTeX entre dollars $$.\n",
    "La balise <br/> est un signe de retour à la ligne en HTML."
   ]
  },
  {
   "cell_type": "markdown",
   "metadata": {},
   "source": [
    "Calcul de l'évolution de l'avancement et des quantités de matière :"
   ]
  },
  {
   "cell_type": "code",
   "execution_count": null,
   "metadata": {},
   "outputs": [],
   "source": [
    "# Initialisation des variables :\n",
    "Dx = nA/100    # pas de variation de l'avancement x à chaque itération\n",
    "x = 0    # avancement initial\n",
    "listex = [x]\n",
    "listenA = [nA]\n",
    "listenB = [nB]\n",
    "listenC = [nC]\n",
    "listenD = [nD]\n",
    "conclusion = \"\"\n",
    "\n",
    "# Boucle permettant de faire varier l'avancement par petits pas et de calculer les quantités à chaque fois :\n",
    "while nA > 0 and nB > 0:    # la boucle doit s'arrêter quand la quantité d'un réactif devient négative ou nulle\n",
    "    x += Dx\n",
    "    nA -= a * Dx\n",
    "    if nA <= 0:\n",
    "        nA = 0.\n",
    "        conclusion += f\"${A}$ est un réactif limitant<br/>\"\n",
    "    nB -= b * Dx\n",
    "    if nB <= 0:\n",
    "        nB = 0.\n",
    "        conclusion += f\"${B}$ est un réactif limitant<br/>\"\n",
    "    nC += c * Dx\n",
    "    nD += d * Dx\n",
    "    listex.append(x)\n",
    "    listenA.append(nA)\n",
    "    listenB.append(nB)\n",
    "    listenC.append(nC)\n",
    "    listenD.append(nD)"
   ]
  },
  {
   "cell_type": "markdown",
   "metadata": {},
   "source": [
    "Valeurs finales :"
   ]
  },
  {
   "cell_type": "code",
   "execution_count": null,
   "metadata": {},
   "outputs": [],
   "source": [
    "resultat = rf\"\"\"\n",
    "$$ x_f = {x:.1} \\text{{ mol}} $$\n",
    "$$ n_{{{A},f}} = {nA:.3} \\text{{ mol}} $$\n",
    "$$ n_{{{B},f}} = {nB:.3} \\text{{ mol}} $$\n",
    "$$ n_{{{C},f}} = {nC:.3} \\text{{ mol}} $$\n",
    "$$ n_{{{D},f}} = {nD:.3} \\text{{ mol}} $$\n",
    "<center>{conclusion}</center>\n",
    "\"\"\"\n",
    "Markdown(resultat)    # affichage des résultats"
   ]
  },
  {
   "cell_type": "raw",
   "metadata": {
    "jupyter": {
     "source_hidden": true
    }
   },
   "source": [
    "Pour représenter graphiquement les données numériques présentes dans les variables, il faut adapter la ligne suivante :\n",
    "\n",
    "plot(x, y, '+', label=\"\")\n",
    "\n",
    "Dans la parenthèse, on détaille les arguments à donner à la fonction de traçage plot séparés par des virgules : d'abord la grandeur qui se placera en abscisse, puis celle en ordonnée, puis entre apostrophes le style de représentation : la lettre est la couleur (k noir, r rouge, b bleu, m magenta, y jaune, g vert, c cyan, o orange\\ldots), le signe est le type de points (+ croix droites, x croix penchées, - points reliés par des segments...), et enfin le texte à inscrire éventuellement en légende de la courbe ce qui est utile notamment si on représente plusieurs courbes sur le même graphique.\n",
    "\n",
    "Par exemple, pour tracer des valeurs de tensions $U$ en fonction du temps $t$, avec des points représentés par des croix et reliés par des segments bleus, et en légende \"Évolution temporelle de la tension $U$\", on écrira :\n",
    "\n",
    "plot(t, U, 'b+-', label=\"Évolution temporelle de la tension U\")\n",
    "\n",
    "Pour superposer plusieurs courbes sur le même graphique, on ajoute d'autres lignes de même type en modifiant les arguments.\n",
    "\n",
    "Si on préfère représenter des courbes sur des graphiques différents, il faut adapter la commande subplot(i j k) avant de décrire la courbe à tracer par plot : le premier numéro (i) indique combien de lignes comptera la grille de graphiques, le deuxième (j) indique combien il y a de colonnes, et le dernier (k) est le numéro du graphique, compté dans le sens de la lecture. \n",
    "\n",
    "Par exemple, subplot(2, 3, 5) indique que le graphique sera le cinquième dans une grille comptant 2 lignes et 3 colonnes : il s'affichera donc à la deuxième ligne, deuxième colonne.\n",
    "\n",
    "La personnalisation du graphique peut se faire en changeant la taille du graphique affiché, en ajoutant un titre : title(\"Ici j'écris mon titre\"), en affichant la légende pour chaque courbe : legend() sans argument, en mettant des noms sur les axes : xlabel(\"le nom de l'abscisse\") et ylabel(\"le nom de l'ordonnée\"), en forçant les échelles à être identiques sur chaque axe : axis('equal'), et en affichant une grille : grid()."
   ]
  },
  {
   "cell_type": "code",
   "execution_count": null,
   "metadata": {},
   "outputs": [],
   "source": [
    "subplot(1, 1, 1)    # lignes, colonnes, numéro du graphique\n",
    "\n",
    "plot(listex, listenA, '-', label=f\"$n_{{{A}}}$\")    # abscisse, ordonnée, options : + o . , s points   - -- -. : lignes  b g r y m c k w couleurs ; label est la légende associée à la courbe\n",
    "plot(listex, listenB, '-', label=f\"$n_{{{B}}}$\")\n",
    "plot(listex, listenC, '-', label=f\"$n_{{{C}}}$\")\n",
    "plot(listex, listenD, '-', label=f\"$n_{{{D}}}$\")\n",
    "\n",
    "grid()    # ajoute une grille\n",
    "legend()    # ajoute la légende au graphique\n",
    "title(\"Avancement de la réaction chimique\")    # mettre le titre désiré entre les guillemets\n",
    "xlabel(\"$x$ (mol)\")    # mettre le nom de l'axe des abscisses entre les guillemets\n",
    "ylabel(\"$n$ (mol)\");    # mettre le nom de l'axe des ordonnées entre les guillemets. Le point-virgule final évite d'afficher un texte récapitulatif."
   ]
  }
 ],
 "metadata": {
  "kernelspec": {
   "display_name": "Python 3 (ipykernel)",
   "language": "python",
   "name": "python3"
  },
  "language_info": {
   "codemirror_mode": {
    "name": "ipython",
    "version": 3
   },
   "file_extension": ".py",
   "mimetype": "text/x-python",
   "name": "python",
   "nbconvert_exporter": "python",
   "pygments_lexer": "ipython3",
   "version": "3.10.6"
  },
  "widgets": {
   "application/vnd.jupyter.widget-state+json": {
    "state": {},
    "version_major": 2,
    "version_minor": 0
   }
  }
 },
 "nbformat": 4,
 "nbformat_minor": 4
}
