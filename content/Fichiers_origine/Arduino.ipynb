{
 "cells": [
  {
   "cell_type": "markdown",
   "metadata": {
    "editable": true,
    "slideshow": {
     "slide_type": ""
    },
    "tags": [
     "remove_cell"
    ]
   },
   "source": [
    "On commence par importer les bibliothèques nécessaires. Attention : NE PAS EFFACER !"
   ]
  },
  {
   "cell_type": "code",
   "execution_count": null,
   "metadata": {
    "editable": true,
    "jupyter": {
     "source_hidden": true
    },
    "slideshow": {
     "slide_type": ""
    },
    "tags": [
     "remove_cell"
    ]
   },
   "outputs": [],
   "source": [
    "from pylab import *    # charge toutes les bibliothèques scientifiques\n",
    "from scipy.optimize import curve_fit    # permet de modéliser selon un modèle personnalisé\n",
    "from lmfit import minimize,Parameters,Parameter,report_fit\n",
    "from lmfit.models import ExpressionModel\n",
    "\n",
    "from time import *    # pour les mesures de temps\n",
    "\n",
    "# On initialise la carte Arduino avec le protocole firmata\n",
    "import pyfirmata\n",
    "carte = pyfirmata.Arduino('/dev/ttyACM0')\n",
    "print(\"Connexion établie\")\n",
    "acquisition = pyfirmata.util.Iterator(carte)\n",
    "acquisition.start()\n",
    "\n",
    "# Paramètres de graphique\n",
    "%matplotlib ipympl\n",
    "rcParams['figure.figsize'] = [16, 8]    # pour une fenetre de graphique de taille adaptée\n",
    "rcParams['font.size'] = 15    # pour un texte plus grand\n",
    "rcParams['lines.markersize'] = 15    # pour des symboles plus grands\n",
    "rcParams['lines.markeredgewidth'] = 2    # pour des symboles plus larges"
   ]
  },
  {
   "cell_type": "markdown",
   "metadata": {},
   "source": [
    "Définition des voies d'entrée / sortie :"
   ]
  },
  {
   "cell_type": "code",
   "execution_count": null,
   "metadata": {},
   "outputs": [],
   "source": [
    "EA0 = carte.get_pin('a:0:i')\n",
    "DS13 = carte.get_pin('d:13:o')"
   ]
  },
  {
   "cell_type": "markdown",
   "metadata": {},
   "source": [
    "Interaction avec les voies définies précédemment :"
   ]
  },
  {
   "cell_type": "code",
   "execution_count": null,
   "metadata": {},
   "outputs": [],
   "source": [
    "while EA0.read() == None:\n",
    "    pass    # Tant que la mesure analogique ne retourne pas de valeur, on ne commence pas"
   ]
  },
  {
   "cell_type": "markdown",
   "metadata": {
    "tags": [
     "remove_cell"
    ]
   },
   "source": [
    "Calcul des caractéristiques de la courbe de régression. Attention : NE PAS SUPPRIMER, et ne le modifier que si les paramètres par défaut ne donnent pas de bon résultat :"
   ]
  },
  {
   "cell_type": "code",
   "execution_count": null,
   "metadata": {
    "jupyter": {
     "source_hidden": true
    },
    "tags": [
     "remove_cell"
    ]
   },
   "outputs": [],
   "source": [
    "def Modele(expression, x, y):\n",
    "    \n",
    "    modele = ExpressionModel(expression)    # si la variable indépendante n'est pas \"x\", ajouter comme argument independant_vars = [\"nom\"])\n",
    "\n",
    "    # Cette partie devine les paramètres et leur attribue une valeur initiale de 1 pour la recherche\n",
    "    parametres = modele.make_params()\n",
    "    for i in parametres :\n",
    "        modele.set_param_hint(i, value = 1)\n",
    "    parametres = modele.make_params()\n",
    "\n",
    "    #modele.set_param_hint('a', value = 1, vary = True, min = -inf, max = inf)    # À compléter pour changer les valeurs initiales des paramètres. Le dernier argument est expr (string)\n",
    "\n",
    "    resultat = modele.fit(y, parametres, x = x)    # Entrer ici le nom de la variable en x et en y, pour le calcul final des paramètres\n",
    "\n",
    "    # On affiche les valeurs trouvées pour les paramètres :\n",
    "    valeurs = \"\"\n",
    "    for key in resultat.params:\n",
    "        valeurs += f\"{key} = {resultat.params[key].value} ; incertitude : {resultat.params[key].stderr}\\n\"\n",
    "    return(modele, resultat.params, valeurs, expression)"
   ]
  },
  {
   "cell_type": "markdown",
   "metadata": {},
   "source": [
    "Tracer de graphique(s) à partir des tableaux précédents :"
   ]
  },
  {
   "cell_type": "code",
   "execution_count": null,
   "metadata": {},
   "outputs": [],
   "source": [
    "subplot(1, 1, 1)    # lignes, colonnes, numéro du graphique\n",
    "\n",
    "# Tracé des points expérimentaux :\n",
    "plot(x, y, '+', label=\"\")    # abscisse, ordonnée, options : + o . , s points   - -- -. : lignes  b g r y m c k w couleurs ; label est la légende associée à la courbe\n",
    "\n",
    "# Tracé du modèle :\n",
    "xMod = linspace(min(x), max(x), 30)    # Intervalle de valeurs pour le modèle : (début, fin, nombre de points)\n",
    "\n",
    "modele, parametres, valeurs, expression = Modele(\"a * x + b\", x, y)    # Remplir ici l'expression du modèle, et les variables en abscisse et en ordonnée\n",
    "yMod = modele.eval(parametres, x = xMod)\n",
    "plot(xMod, yMod, '-', label=f\"Modèle : {expression} \\n {valeurs}\" )    # trace la courbe du modèle\n",
    "\n",
    "\n",
    "#axis('equal')    # à décommenter si on veut un repère orthonormé\n",
    "grid()    # ajoute une grille\n",
    "legend()    # ajoute la légende au graphique\n",
    "title(\"Mon titre\")    # mettre le titre désiré entre les guillemets\n",
    "xlabel(\"\")    # mettre le nom de l'axe des abscisses entre les guillemets\n",
    "ylabel(\"\");    # mettre le nom de l'axe des ordonnées entre les guillemets. Le point-virgule final évite d'afficher un texte récapitulatif."
   ]
  }
 ],
 "metadata": {
  "kernelspec": {
   "display_name": "Python 3 (ipykernel)",
   "language": "python",
   "name": "python3"
  },
  "language_info": {
   "codemirror_mode": {
    "name": "ipython",
    "version": 3
   },
   "file_extension": ".py",
   "mimetype": "text/x-python",
   "name": "python",
   "nbconvert_exporter": "python",
   "pygments_lexer": "ipython3",
   "version": "3.10.6"
  },
  "widgets": {
   "application/vnd.jupyter.widget-state+json": {
    "state": {},
    "version_major": 2,
    "version_minor": 0
   }
  }
 },
 "nbformat": 4,
 "nbformat_minor": 4
}
