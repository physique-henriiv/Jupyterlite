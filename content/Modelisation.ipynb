{
 "cells": [
  {
   "cell_type": "markdown",
   "metadata": {
    "editable": true,
    "slideshow": {
     "slide_type": ""
    },
    "tags": [
     "remove_cell"
    ]
   },
   "source": [
    "On commence par importer les bibliothèques nécessaires. Attention : NE PAS EFFACER !"
   ]
  },
  {
   "cell_type": "code",
   "execution_count": null,
   "metadata": {
    "editable": true,
    "jupyter": {
     "source_hidden": true
    },
    "slideshow": {
     "slide_type": ""
    },
    "tags": [
     "remove_cell"
    ]
   },
   "outputs": [],
   "source": [
    "from pylab import *    # charge toutes les bibliothèques scientifiques\n",
    "from scipy.optimize import curve_fit    # permet de modéliser selon un modèle personnalisé\n",
    "from lmfit import minimize,Parameters,Parameter,report_fit\n",
    "from lmfit.models import ExpressionModel\n",
    "import re\n",
    "\n",
    "# Si on veut un graphique interactif, décommenter la ligne avec widget, et commenter la ligne avec inline.\n",
    "#%matplotlib widget\n",
    "%matplotlib ipympl\n",
    "rcParams['figure.figsize'] = [16, 8]    # pour une fenetre graphique adaptée\n",
    "rcParams['font.size'] = 15    # pour un texte plus grand\n",
    "rcParams['lines.markersize'] = 15    # pour des symboles plus grands\n",
    "rcParams['lines.markeredgewidth'] = 2    # pour des symboles plus larges"
   ]
  },
  {
   "cell_type": "markdown",
   "metadata": {},
   "source": [
    "Création de tableaux de valeurs automatiques (rampe et valeurs aléatoires) :"
   ]
  },
  {
   "cell_type": "raw",
   "metadata": {
    "jupyter": {
     "source_hidden": true
    }
   },
   "source": [
    "rampe = linspace(0, 10, 30)    # crée une variable dans un domaine allant de 0 à 10, contenant 30 valeurs régulièrement espacées (adapter les valeurs)\n",
    "\n",
    "alea = random(30)    # crée une variable contenant 30 valeurs aléatoires entre 0 et 1 (adapter les valeurs)"
   ]
  },
  {
   "cell_type": "markdown",
   "metadata": {},
   "source": [
    "Importation de tableaux enregistrés localement en fichiers csv, avec attribution **automatique** des noms de variables :"
   ]
  },
  {
   "cell_type": "raw",
   "metadata": {
    "jupyter": {
     "source_hidden": true
    }
   },
   "source": [
    "tableau = genfromtxt('donnees/nomDuFichier.csv', delimiter=',', skip_header=0, names=True)    # skip_header permet de ne pas lire les n premières lignes du fichier (utile si il y a des en-têtes) ; delimiter est le signe séparant les valeurs dans les différentes colonnes : par exemple, on peut parfois mettre delimiter=None si les séparateurs sont des espaces\n",
    "for i in tableau.dtype.names:    # pour chaque nom détecté en en-tete de colonnes\n",
    "    globals()[i] = tableau[i]    # on crée une variable qui porte le meme nom et on y attribue les valeurs de la colonne"
   ]
  },
  {
   "cell_type": "markdown",
   "metadata": {},
   "source": [
    "Importation de tableaux enregistrés localement en fichiers csv, avec attribution **manuelle** des noms de variables :"
   ]
  },
  {
   "cell_type": "raw",
   "metadata": {
    "jupyter": {
     "source_hidden": true
    }
   },
   "source": [
    "tableau = genfromtxt('donnees/nomDuFichier.csv', delimiter=',', skip_header=0)    # skip_header permet de ne pas lire les n premières lignes du fichier (utile si il y a des en-têtes) ; delimiter est le signe séparant les valeurs dans les différentes colonnes : par exemple, on peut parfois mettre delimiter=None si les séparateurs sont des espaces\n",
    "x = tableau[:, 0] # On enregistre la première colonne sous le nom x\n",
    "y = tableau[:, 1] # On enregistre la deuxième colonne sous le nom y    # etc... s'il y a d'autres colonnes"
   ]
  },
  {
   "cell_type": "markdown",
   "metadata": {},
   "source": [
    "Création manuelle de tableaux de valeurs :"
   ]
  },
  {
   "cell_type": "code",
   "execution_count": null,
   "metadata": {},
   "outputs": [],
   "source": [
    "x = array([])\n",
    "y = array([])"
   ]
  },
  {
   "cell_type": "markdown",
   "metadata": {},
   "source": [
    "Calcul des variations, utile pour calculer des dérivées :"
   ]
  },
  {
   "cell_type": "raw",
   "metadata": {
    "jupyter": {
     "source_hidden": true
    }
   },
   "source": [
    "u = gradient(x)    # calcule les variations Xi+1 - Xi-1, et aux extremites X1 - X0 et Xn - Xn-1\n",
    "u = x[2:]-x[:-2]    # idem, pour tous les points sauf le premier et le dernier\n",
    "\n",
    "u = diff(x)    # calcule les variations Xi+1 - Xi pour tous les points sauf le dernier\n",
    "u = x[1:]-x[:-1]    # autre possibilité, même résultat"
   ]
  },
  {
   "cell_type": "markdown",
   "metadata": {
    "tags": [
     "remove_cell"
    ]
   },
   "source": [
    "Calcul des caractéristiques de la courbe de régression. Attention : NE PAS SUPPRIMER, et ne le modifier que si les paramètres par défaut ne donnent pas de bon résultat :"
   ]
  },
  {
   "cell_type": "code",
   "execution_count": null,
   "metadata": {
    "jupyter": {
     "source_hidden": true
    },
    "tags": [
     "remove_cell"
    ]
   },
   "outputs": [],
   "source": [
    "def Modele(expression, x, y):\n",
    "    \n",
    "    modele = ExpressionModel(expression)    # si la variable indépendante n'est pas \"x\", ajouter comme argument independant_vars = [\"nom\"])\n",
    "\n",
    "    # Cette partie devine les paramètres et leur attribue une valeur initiale de 1 pour la recherche\n",
    "    parametres = modele.make_params()\n",
    "    for i in parametres :\n",
    "        modele.set_param_hint(i, value = 1)\n",
    "\n",
    "    #modele.set_param_hint('a', value = 1, vary = True, min = -inf, max = inf)    # À compléter pour changer les valeurs initiales des paramètres. Le dernier argument est expr (string)\n",
    "\n",
    "    parametres = modele.make_params()\n",
    "    \n",
    "    resultat = modele.fit(y, parametres, x = x)    # Entrer ici le nom de la variable en x et en y, pour le calcul final des paramètres\n",
    "\n",
    "    # On affiche les valeurs trouvées pour les paramètres :\n",
    "    valeurs = \"\"\n",
    "    for key in resultat.params:\n",
    "        valeurs += f\"{key} = {resultat.params[key].value:.3g} ; incertitude : {resultat.params[key].stderr:.2g}\\n\"\n",
    "    return(modele, resultat.params, valeurs, expression)\n",
    "\n",
    "def Calcul_modele(abscisse,  ordonnee, equation, debut, fin, debutCourbe, finCourbe):\n",
    "    ## On commence par arranger les expressions avec \"x\" comme variable, car lmfit travaille avec x par défaut :\n",
    "    ord = ordonnee\n",
    "    eq = equation\n",
    "    equation = re.sub(r\"\\b\"+abscisse+r\"\\b\",\"x\", equation)\n",
    "    abscisse = globals()[abscisse]\n",
    "    ordonnee = globals()[ordonnee]\n",
    "    if debutCourbe == None :\n",
    "        debutCourbe = min(abscisse)\n",
    "    if finCourbe == None :\n",
    "        finCourbe = max(abscisse)\n",
    "    \n",
    "    # On calcule maintenant les grandeurs liées au modèle :\n",
    "    xMod = linspace(debutCourbe, finCourbe, 30)    # Intervalle de valeurs pour le modèle : (début, fin, nombre de points)\n",
    "    modele, parametres, valeurs, expression = Modele(equation, abscisse[debut:fin], ordonnee[debut:fin])    # Expression du modèle, et variables en abscisse et en ordonnée ; on peut changer les plages de valeurs à utiliser pour le calcul\n",
    "    expression = f\"{ord} = {eq}\"\n",
    "    yMod = modele.eval(parametres, x = xMod)\n",
    "    \n",
    "    # Les paramètres sont définis de façon globale, et utilisables dans des calculs :\n",
    "    for key in parametres:\n",
    "        globals()[key] = parametres[key].value\n",
    "    \n",
    "    return(xMod, yMod, expression, valeurs, abscisse, ordonnee)"
   ]
  },
  {
   "cell_type": "markdown",
   "metadata": {},
   "source": [
    "Tracé de graphique(s) à partir des tableaux précédents :"
   ]
  },
  {
   "cell_type": "code",
   "execution_count": null,
   "metadata": {
    "tags": []
   },
   "outputs": [],
   "source": [
    "abscisse = \"x\"    # choix de la grandeur en abscisse, pour le graphique et pour le modèle\n",
    "ordonnee = \"y\"    # choix de la grandeur en ordonnée, pour le graphique et pour le modèle\n",
    "equation = \"a * x + b\"    # expression de l'équation correspondant au modèle recherché ; la variable peut être x ou le nom donné en abscisse\n",
    "debut = None    # indice du premier élément à prendre en compte pour le modèle (None : le premier de la liste)\n",
    "fin = None    # indice du dernier élément à prendre en compte pour le modèle (None : le dernier de la liste)\n",
    "debutCourbe = None    # valeur de l'abscisse où débute le tracé du modèle (None : la plus petite valeur de l'abscisse)\n",
    "finCourbe = None    # valeur de l'abscisse où se termine le tracé du modèle (None : la plus grande valeur de l'abscisse)\n",
    "\n",
    "subplot(1,1,1)    # création d'une fenêtre de graphique : lignes, colonnes, numéro\n",
    "xMod, yMod, expression, valeurs, abscisse, ordonnee = Calcul_modele(abscisse, ordonnee, equation, debut, fin, debutCourbe, finCourbe)    # Calcul des valeurs du modèle, ne pas modifier\n",
    "\n",
    "# Tracé des points expérimentaux :\n",
    "plot(abscisse, ordonnee, '+', label=\"\")    # abscisse, ordonnée, options : + o . , s points   - -- -. : lignes  b g r y m c k w couleurs ; label est la légende associée à la courbe\n",
    "\n",
    "# Tracé du modèle :\n",
    "plot(xMod, yMod, '-', label=f\"Modèle :    {expression} \\n {valeurs}\" )    # trace la courbe du modèle\n",
    "\n",
    "#axis('equal')    # à décommenter si on veut un repère orthonormé\n",
    "grid()    # ajoute une grille\n",
    "legend()    # ajoute la légende au graphique\n",
    "title(\"Mon titre\")    # mettre le titre désiré entre les guillemets\n",
    "xlabel(\"\")    # mettre le nom de l'axe des abscisses entre les guillemets\n",
    "ylabel(\"\");    # mettre le nom de l'axe des ordonnées entre les guillemets. Le point-virgule final évite d'afficher un texte récapitulatif."
   ]
  },
  {
   "cell_type": "markdown",
   "metadata": {
    "tags": [
     "remove_cell"
    ]
   },
   "source": [
    "Calcul de valeurs particulières :"
   ]
  },
  {
   "cell_type": "raw",
   "metadata": {
    "tags": [
     "remove_cell"
    ]
   },
   "source": [
    "# Calcul dans le sens direct :\n",
    "valeur_de_y = modele.eval(parametres, x = valeur_de_x)    # remplacer valeur_de_x par un nombre ou une liste de nombres\n",
    "print(valeur_de_y)"
   ]
  }
 ],
 "metadata": {
  "kernelspec": {
   "display_name": "Python 3 (ipykernel)",
   "language": "python",
   "name": "python3"
  },
  "language_info": {
   "codemirror_mode": {
    "name": "ipython",
    "version": 3
   },
   "file_extension": ".py",
   "mimetype": "text/x-python",
   "name": "python",
   "nbconvert_exporter": "python",
   "pygments_lexer": "ipython3",
   "version": "3.10.12"
  },
  "widgets": {
   "application/vnd.jupyter.widget-state+json": {
    "state": {},
    "version_major": 2,
    "version_minor": 0
   }
  }
 },
 "nbformat": 4,
 "nbformat_minor": 4
}
