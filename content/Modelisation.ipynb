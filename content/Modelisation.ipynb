{
 "cells": [
  {
   "cell_type": "markdown",
   "metadata": {
    "editable": true,
    "slideshow": {
     "slide_type": ""
    },
    "tags": [
     "remove_cell"
    ]
   },
   "source": [
    "Importation des bibliothèques nécessaires, et calcul des caractéristiques du modèle. Attention : NE PAS EFFACER !"
   ]
  },
  {
   "cell_type": "code",
   "execution_count": null,
   "metadata": {
    "editable": true,
    "jupyter": {
     "source_hidden": true
    },
    "slideshow": {
     "slide_type": ""
    },
    "tags": [
     "remove_cell"
    ]
   },
   "outputs": [],
   "source": [
    "from pylab import *    # charge toutes les bibliothèques scientifiques\n",
    "from scipy.optimize import curve_fit    # permet de modéliser selon un modèle personnalisé\n",
    "from lmfit import minimize,Parameters,Parameter,report_fit\n",
    "from lmfit.models import ExpressionModel\n",
    "import re\n",
    "\n",
    "# Si on veut différents graphiques non interactifs dans la feuille, remplacer ipympl par inline dans la ligne suivante\n",
    "%matplotlib ipympl\n",
    "rcParams['figure.figsize'] = [16, 8]    # pour une fenetre graphique adaptée\n",
    "rcParams['font.size'] = 15    # pour un texte plus grand\n",
    "rcParams['lines.markersize'] = 15    # pour des symboles plus grands\n",
    "rcParams['lines.markeredgewidth'] = 2    # pour des symboles plus larges\n",
    "\n",
    "# Calculs du modèle. Attention : NE JAMAIS MODIFIER LES LIGNES SUIVANTES !\n",
    "def Modele(expression, x, y, contraintes):\n",
    "    \n",
    "    modele = ExpressionModel(expression)    # si la variable indépendante n'est pas \"x\", ajouter comme argument independant_vars = [\"nom\"])\n",
    "\n",
    "    # Cette partie devine les paramètres et leur attribue une valeur initiale de 1 pour la recherche\n",
    "    parametres = modele.make_params()\n",
    "    for i in parametres :\n",
    "        modele.set_param_hint(i, value = 1)\n",
    "\n",
    "    for j in contraintes :\n",
    "        if j[0] in parametres :\n",
    "            modele.set_param_hint(j[0], value = j[1], vary = j[2], min = j[3], max = j[4])    # À compléter pour changer les valeurs initiales des paramètres. Le dernier argument est expr (string)\n",
    "\n",
    "    parametres = modele.make_params()\n",
    "    \n",
    "    resultat = modele.fit(y, parametres, x = x)    # Entrer ici le nom de la variable en x et en y, pour le calcul final des paramètres\n",
    "\n",
    "    # On affiche les valeurs trouvées pour les paramètres :\n",
    "    valeurs = \"\"\n",
    "    for key in resultat.params:\n",
    "        valeurs += f\"{key} = {resultat.params[key].value:.3g} ; incertitude : {resultat.params[key].stderr:.2g}\\n\"\n",
    "    return(modele, resultat.params, valeurs, expression)\n",
    "\n",
    "def Calcul_modele(abscisse,  ordonnee, equation, debut, fin, debutCourbe, finCourbe, contraintes):\n",
    "    ## On commence par arranger les expressions avec \"x\" comme variable, car lmfit travaille avec x par défaut :\n",
    "    ord = ordonnee\n",
    "    eq = equation\n",
    "    equation = re.sub(r\"\\b\"+abscisse+r\"\\b\",\"x\", equation)\n",
    "    abscisse = globals()[abscisse]\n",
    "    ordonnee = globals()[ordonnee]\n",
    "    if debutCourbe == None :\n",
    "        debutCourbe = min(abscisse)\n",
    "    if finCourbe == None :\n",
    "        finCourbe = max(abscisse)\n",
    "    \n",
    "    # On calcule maintenant les grandeurs liées au modèle :\n",
    "    xMod = linspace(debutCourbe, finCourbe, 30)    # Intervalle de valeurs pour le modèle : (début, fin, nombre de points)\n",
    "    modele, parametres, valeurs, expression = Modele(equation, abscisse[debut:fin], ordonnee[debut:fin], contraintes)    # Expression du modèle, et variables en abscisse et en ordonnée ; on peut changer les plages de valeurs à utiliser pour le calcul\n",
    "    expression = f\"{ord} = {eq}\"\n",
    "    yMod = modele.eval(parametres, x = xMod)\n",
    "    \n",
    "    # Les paramètres sont définis de façon globale, et utilisables dans des calculs :\n",
    "    for key in parametres:\n",
    "        globals()[key] = parametres[key].value\n",
    "    \n",
    "    return(xMod, yMod, expression, valeurs, abscisse, ordonnee, modele, parametres)"
   ]
  },
  {
   "cell_type": "markdown",
   "metadata": {},
   "source": [
    "Importation de tableaux enregistrés localement en fichiers csv :"
   ]
  },
  {
   "cell_type": "code",
   "execution_count": null,
   "metadata": {
    "jupyter": {
     "source_hidden": true
    }
   },
   "outputs": [],
   "source": [
    "noms = True    # si le fichier csv contient les noms des variables, laisser True, sinon indiquer False\n",
    "tableau = genfromtxt('untitled.csv', delimiter=',', skip_header=0, names=noms)    # skip_header permet de ne pas lire les n premières lignes du fichier (utile si il y a des en-têtes) ; delimiter est le signe séparant les valeurs dans les différentes colonnes : par exemple, on peut parfois mettre delimiter=None si les séparateurs sont des espaces\n",
    "    \n",
    "if noms :    # dans le cas d'attribution automatique des noms\n",
    "    for i in tableau.dtype.names:    # pour chaque nom détecté en en-tete de colonnes\n",
    "        globals()[i] = tableau[i]    # on crée une variable qui porte le meme nom et on y attribue les valeurs de la colonne\n",
    "\n",
    "else :    # si on veut attribuer les noms manuellement\n",
    "    x = tableau[:, 0] # On enregistre la première colonne sous le nom x\n",
    "    y = tableau[:, 1] # On enregistre la deuxième colonne sous le nom y    # etc... s'il y a d'autres colonnes"
   ]
  },
  {
   "cell_type": "markdown",
   "metadata": {},
   "source": [
    "Tracé de graphique(s) à partir des tableaux précédents :"
   ]
  },
  {
   "cell_type": "code",
   "execution_count": null,
   "metadata": {
    "tags": []
   },
   "outputs": [],
   "source": [
    "abscisse = \"x\"    # choix de la grandeur en abscisse, pour le graphique et pour le modèle\n",
    "ordonnee = \"y\"    # choix de la grandeur en ordonnée, pour le graphique et pour le modèle\n",
    "equation = \"a * x + b\"    # expression de l'équation correspondant au modèle recherché ; la variable peut être x ou le nom donné en abscisse\n",
    "debut = None    # indice du premier élément à prendre en compte pour le modèle (None : le premier de la liste)\n",
    "fin = None    # indice du dernier élément à prendre en compte pour le modèle (None : le dernier de la liste)\n",
    "debutCourbe = None    # valeur de l'abscisse où débute le tracé du modèle (None : la plus petite valeur de l'abscisse)\n",
    "finCourbe = None    # valeur de l'abscisse où se termine le tracé du modèle (None : la plus grande valeur de l'abscisse)\n",
    "contraintes = [['a', 1, True, -inf, inf]]    # ['nomDuParametre', valeurInitiale, variabilité, min, max]   à remplir pour chaque paramètre du modèle si la recherche automatique ne trouve pas de valeurs cohérentes\n",
    "\n",
    "subplot(1,1,1)    # création d'une fenêtre de graphique : lignes, colonnes, numéro\n",
    "xMod, yMod, expression, valeurs, abscisse, ordonnee, modele, parametres = Calcul_modele(abscisse, ordonnee, equation, debut, fin, debutCourbe, finCourbe, contraintes)    # Calcul des valeurs du modèle, ne pas modifier\n",
    "\n",
    "# Tracé des points expérimentaux :\n",
    "plot(abscisse, ordonnee, '+', label=\"\")    # abscisse, ordonnée, options : + o . , s points   - -- -. : lignes  b g r y m c k w couleurs ; label est la légende associée à la courbe\n",
    "\n",
    "# Tracé du modèle :\n",
    "plot(xMod, yMod, '-', label=f\"Modèle :    {expression} \\n {valeurs}\" )    # trace la courbe du modèle\n",
    "\n",
    "#axis('equal')    # à décommenter si on veut un repère orthonormé\n",
    "grid()    # ajoute une grille\n",
    "legend()    # ajoute la légende au graphique\n",
    "title(\"Mon titre\")    # mettre le titre désiré entre les guillemets\n",
    "xlabel(\"\")    # mettre le nom de l'axe des abscisses entre les guillemets\n",
    "ylabel(\"\");    # mettre le nom de l'axe des ordonnées entre les guillemets. Le point-virgule final évite d'afficher un texte récapitulatif."
   ]
  },
  {
   "cell_type": "markdown",
   "metadata": {
    "tags": [
     "remove_cell"
    ]
   },
   "source": [
    "Calcul de valeurs particulières :"
   ]
  },
  {
   "cell_type": "code",
   "execution_count": null,
   "metadata": {
    "jupyter": {
     "source_hidden": true
    },
    "tags": [
     "remove_cell"
    ]
   },
   "outputs": [],
   "source": [
    "# Calcul dans le sens direct :\n",
    "valeur_de_x = 1    # attribuer un nombre ou une liste de nombres à valeur_de_x \n",
    "valeur_de_y = modele.eval(parametres, x = valeur_de_x)    \n",
    "print(valeur_de_y)"
   ]
  }
 ],
 "metadata": {
  "kernelspec": {
   "display_name": "Python 3 (ipykernel)",
   "language": "python",
   "name": "python3"
  },
  "language_info": {
   "codemirror_mode": {
    "name": "ipython",
    "version": 3
   },
   "file_extension": ".py",
   "mimetype": "text/x-python",
   "name": "python",
   "nbconvert_exporter": "python",
   "pygments_lexer": "ipython3",
   "version": "3.10.14"
  },
  "widgets": {
   "application/vnd.jupyter.widget-state+json": {
    "state": {},
    "version_major": 2,
    "version_minor": 0
   }
  }
 },
 "nbformat": 4,
 "nbformat_minor": 4
}
