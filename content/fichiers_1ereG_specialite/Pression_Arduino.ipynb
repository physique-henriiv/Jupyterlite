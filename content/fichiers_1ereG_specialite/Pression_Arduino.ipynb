{
 "cells": [
  {
   "cell_type": "markdown",
   "metadata": {
    "editable": true,
    "slideshow": {
     "slide_type": ""
    },
    "tags": [
     "remove_cell"
    ]
   },
   "source": [
    "On commence par importer les bibliothèques nécessaires. Attention : NE PAS EFFACER !"
   ]
  },
  {
   "cell_type": "code",
   "execution_count": null,
   "metadata": {
    "editable": true,
    "jupyter": {
     "source_hidden": true
    },
    "slideshow": {
     "slide_type": ""
    },
    "tags": [
     "remove_cell"
    ]
   },
   "outputs": [],
   "source": [
    "from telemetrix import telemetrix     # pour piloter la carte Arduino en temps réel\n",
    "from pylab import *    # charge toutes les bibliothèques scientifiques\n",
    "from scipy.optimize import curve_fit    # permet de modéliser selon un modèle personnalisé\n",
    "from lmfit import minimize,Parameters,Parameter,report_fit\n",
    "from lmfit.models import ExpressionModel\n",
    "from time import *\n",
    "%matplotlib inline\n",
    "rcParams['figure.figsize'] = [32, 16]    # à enlever si on utilise %matplotlib widget\n",
    "rcParams['font.size'] = 20    # pour un texte plus grand\n",
    "rcParams['lines.markersize'] = 15    # pour des symboles plus grands\n",
    "rcParams['lines.markeredgewidth'] = 2    # pour des symboles plus larges"
   ]
  },
  {
   "cell_type": "markdown",
   "metadata": {
    "editable": true,
    "slideshow": {
     "slide_type": ""
    },
    "tags": [
     "remove_cell"
    ]
   },
   "source": [
    "Initialisation des valeurs et mesure automatique des données :"
   ]
  },
  {
   "cell_type": "code",
   "execution_count": null,
   "metadata": {
    "editable": true,
    "jupyter": {
     "source_hidden": true
    },
    "slideshow": {
     "slide_type": ""
    },
    "tags": [
     "remove_cell"
    ]
   },
   "outputs": [],
   "source": [
    "nbMesures = 1    # le nombre de mesures qu'on désire réaliser à chaque fois\n",
    "i = nbMesures    # pour ne pas démarrer les mesures dès le départ\n",
    "P = []    # on initialise la liste des pressions\n",
    "variable = []    # on initialise la liste de valeurs correspondant à la variable dont dépend la pression\n",
    "Analog_pin = 0    # les mesures seront effectuées sur la voie A0\n",
    "# Callback data indices\n",
    "CB_PIN_MODE = 0\n",
    "CB_PIN = 1\n",
    "CB_VALUE = 2\n",
    "CB_TIME = 3\n",
    "carte = telemetrix.Telemetrix(\"/dev/ttyACM0\")    # on définit la carte Arduino sous le nom de \"carte\"\n",
    "def MonCallback(data) :    # on définit ici ce qui sera exécuté à chaque appel de mesure\n",
    "    global i, nbMesures, P\n",
    "    # L'étalonnage du capteur est du type P = coef * Vout + décalage ; les valeurs suivantes sont celles données par le constructeur pour le capteur de pression MPX4250AP\n",
    "    coef = 5e4\n",
    "    decalage = 1e4\n",
    "    raw_value = data[CB_VALUE]\n",
    "    U = 5. * raw_value / 1023\n",
    "    if i < nbMesures :    # pour ne réaliser que le nombre de mesures demandé\n",
    "        pression = coef * U + decalage\n",
    "        print(pression, \"Pa\")\n",
    "        P.append(pression)\n",
    "        i+=1\n",
    "\n",
    "EA0 = carte.set_pin_mode_analog_input(Analog_pin, callback = MonCallback)    # définition de la voie d'acquisition"
   ]
  },
  {
   "cell_type": "markdown",
   "metadata": {
    "editable": true,
    "slideshow": {
     "slide_type": ""
    },
    "tags": []
   },
   "source": [
    "Acquisition des valeurs.  \n",
    "Entrer une nouvelle valeur de la variable pour réaliser une nouvelle mesure. Pour arrêter, valider sans entrer de valeur."
   ]
  },
  {
   "cell_type": "code",
   "execution_count": null,
   "metadata": {
    "editable": true,
    "jupyter": {
     "source_hidden": true
    },
    "slideshow": {
     "slide_type": ""
    },
    "tags": [
     "remove_input"
    ]
   },
   "outputs": [],
   "source": [
    "while True :\n",
    "    entree = input(\"Entrer la valeur du paramètre :\")\n",
    "    try :\n",
    "        variable.append(float(entree))\n",
    "        i = 0    # initialisation du compteur\n",
    "        carte.enable_analog_reporting(Analog_pin)    # on permet la mesure des valeurs sur la voie d'entrée\n",
    "        sleep(0.1)    # courte attente le temps que la mesure soit effectuée\n",
    "        carte.disable_analog_reporting(Analog_pin)    # on arrête les mesures\n",
    "    except :\n",
    "        carte.shutdown()\n",
    "        break"
   ]
  },
  {
   "cell_type": "markdown",
   "metadata": {
    "editable": true,
    "slideshow": {
     "slide_type": ""
    },
    "tags": [
     "remove_cell"
    ]
   },
   "source": [
    "Calcul des caractéristiques de la courbe de régression. Attention : NE PAS SUPPRIMER, et ne le modifier que si les paramètres par défaut ne donnent pas de bon résultat :"
   ]
  },
  {
   "cell_type": "code",
   "execution_count": null,
   "metadata": {
    "jupyter": {
     "source_hidden": true
    },
    "tags": [
     "remove_cell"
    ]
   },
   "outputs": [],
   "source": [
    "def Modele(expression, x, y):\n",
    "    \n",
    "    modele = ExpressionModel(expression)    # si la variable indépendante n'est pas \"x\", ajouter comme argument independant_vars = [\"nom\"])\n",
    "\n",
    "    # Cette partie devine les paramètres et leur attribue une valeur initiale de 1 pour la recherche\n",
    "    parametres = modele.make_params()\n",
    "    for i in parametres :\n",
    "        modele.set_param_hint(i, value = 1)\n",
    "\n",
    "    #modele.set_param_hint('a', value = 1, vary = True, min = -inf, max = inf)    # À compléter pour changer les valeurs initiales des paramètres. Le dernier argument est expr (string)\n",
    "\n",
    "    parametres = modele.make_params()\n",
    "    \n",
    "    resultat = modele.fit(y, parametres, x = x)    # Entrer ici le nom de la variable en x et en y, pour le calcul final des paramètres\n",
    "\n",
    "    # On affiche les valeurs trouvées pour les paramètres :\n",
    "    valeurs = \"\"\n",
    "    for key in resultat.params:\n",
    "        valeurs += f\"{key} = {resultat.params[key].value:.3g} ; incertitude : {resultat.params[key].stderr:.2g}\\n\"\n",
    "    return(modele, resultat.params, valeurs, expression)\n",
    "\n",
    "def Calcul_modele(abscisse,  ordonnee, equation, debut, fin, debutCourbe, finCourbe):\n",
    "    ## On commence par arranger les expressions avec \"x\" comme variable, car lmfit travaille avec x par défaut :\n",
    "    ord = ordonnee\n",
    "    eq = equation\n",
    "    equation = re.sub(r\"\\b\"+abscisse+r\"\\b\",\"x\", equation)\n",
    "    abscisse = globals()[abscisse]\n",
    "    ordonnee = globals()[ordonnee]\n",
    "    if debutCourbe == None :\n",
    "        debutCourbe = min(abscisse)\n",
    "    if finCourbe == None :\n",
    "        finCourbe = max(abscisse)\n",
    "    \n",
    "    # On calcule maintenant les grandeurs liées au modèle :\n",
    "    xMod = linspace(debutCourbe, finCourbe, 30)    # Intervalle de valeurs pour le modèle : (début, fin, nombre de points)\n",
    "    modele, parametres, valeurs, expression = Modele(equation, abscisse[debut:fin], ordonnee[debut:fin])    # Expression du modèle, et variables en abscisse et en ordonnée ; on peut changer les plages de valeurs à utiliser pour le calcul\n",
    "    expression = f\"{ord} = {eq}\"\n",
    "    yMod = modele.eval(parametres, x = xMod)\n",
    "    \n",
    "    # Les paramètres sont définis de façon globale, et utilisables dans des calculs :\n",
    "    for key in parametres:\n",
    "        globals()[key] = parametres[key].value\n",
    "    \n",
    "    return(xMod, yMod, expression, valeurs, abscisse, ordonnee)"
   ]
  },
  {
   "cell_type": "markdown",
   "metadata": {},
   "source": [
    "Tracé de graphique(s) à partir des tableaux précédents :"
   ]
  },
  {
   "cell_type": "code",
   "execution_count": null,
   "metadata": {
    "tags": []
   },
   "outputs": [],
   "source": [
    "variable = array(variable)    # Donner un nom adéquat à la nouvelle variable. Cette commande transforme une liste en tableau de valeurs exploitable\n",
    "abscisse = \"variable\"    # choix de la grandeur en abscisse, pour le graphique et pour le modèle\n",
    "ordonnee = \"P\"    # choix de la grandeur en ordonnée, pour le graphique et pour le modèle\n",
    "equation = \"a * x + b\"    # expression de l'équation correspondant au modèle recherché ; la variable peut être x ou le nom donné en abscisse\n",
    "debut = None    # indice du premier élément à prendre en compte pour le modèle (None : le premier de la liste)\n",
    "fin = None    # indice du dernier élément à prendre en compte pour le modèle (None : le dernier de la liste)\n",
    "debutCourbe = None    # valeur de l'abscisse où débute le tracé du modèle (None : la plus petite valeur de l'abscisse)\n",
    "finCourbe = None    # valeur de l'abscisse où se termine le tracé du modèle (None : la plus grande valeur de l'abscisse)\n",
    "\n",
    "subplot(1,1,1)    # création d'une fenêtre de graphique : lignes, colonnes, numéro\n",
    "xMod, yMod, expression, valeurs, abscisse, ordonnee = Calcul_modele(abscisse, ordonnee, equation, debut, fin, debutCourbe, finCourbe)    # Calcul des valeurs du modèle, ne pas modifier\n",
    "\n",
    "# Tracé des points expérimentaux :\n",
    "plot(abscisse, ordonnee, '+', label=\"\")    # abscisse, ordonnée, options : + o . , s points   - -- -. : lignes  b g r y m c k w couleurs ; label est la légende associée à la courbe\n",
    "\n",
    "# Tracé du modèle :\n",
    "plot(xMod, yMod, '-', label=f\"Modèle :    {expression} \\n {valeurs}\" )    # trace la courbe du modèle\n",
    "\n",
    "#axis('equal')    # à décommenter si on veut un repère orthonormé\n",
    "grid()    # ajoute une grille\n",
    "legend()    # ajoute la légende au graphique\n",
    "title(\"Mon titre\")    # mettre le titre désiré entre les guillemets\n",
    "xlabel(\"\")    # mettre le nom de l'axe des abscisses entre les guillemets\n",
    "ylabel(\"\");    # mettre le nom de l'axe des ordonnées entre les guillemets. Le point-virgule final évite d'afficher un texte récapitulatif."
   ]
  },
  {
   "cell_type": "markdown",
   "metadata": {
    "tags": [
     "remove_cell"
    ]
   },
   "source": [
    "Calcul de valeurs particulières :"
   ]
  },
  {
   "cell_type": "raw",
   "metadata": {
    "tags": [
     "remove_cell"
    ]
   },
   "source": [
    "# Calcul dans le sens direct :\n",
    "valeur_de_y = modele.eval(parametres, x = valeur_de_x)    # remplacer valeur_de_x par un nombre ou une liste de nombres\n",
    "print(valeur_de_y)"
   ]
  }
 ],
 "metadata": {
  "kernelspec": {
   "display_name": "Python 3 (ipykernel)",
   "language": "python",
   "name": "python3"
  },
  "language_info": {
   "codemirror_mode": {
    "name": "ipython",
    "version": 3
   },
   "file_extension": ".py",
   "mimetype": "text/x-python",
   "name": "python",
   "nbconvert_exporter": "python",
   "pygments_lexer": "ipython3",
   "version": "3.10.12"
  },
  "widgets": {
   "application/vnd.jupyter.widget-state+json": {
    "state": {},
    "version_major": 2,
    "version_minor": 0
   }
  }
 },
 "nbformat": 4,
 "nbformat_minor": 4
}
