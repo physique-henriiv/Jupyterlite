{
 "cells": [
  {
   "cell_type": "markdown",
   "metadata": {
    "editable": true,
    "slideshow": {
     "slide_type": ""
    },
    "tags": [
     "remove_cell"
    ]
   },
   "source": [
    "On commence par importer les bibliothèques nécessaires. Attention : NE PAS EFFACER !"
   ]
  },
  {
   "cell_type": "code",
   "execution_count": null,
   "metadata": {
    "editable": true,
    "jupyter": {
     "source_hidden": true
    },
    "slideshow": {
     "slide_type": ""
    },
    "tags": [
     "remove_cell"
    ]
   },
   "outputs": [],
   "source": [
    "import re    # pour les expressions régulières\n",
    "\n",
    "from serial import *\n",
    "s = Serial()    # s est le nom du port de communication avec le spectrophotomètre\n",
    "s.port = '/dev/ttyUSB0'\n",
    "s.baudrate = 19200\n",
    "s.bytesize = EIGHTBITS\n",
    "s.stopbits = STOPBITS_ONE\n",
    "s.parity = PARITY_NONE\n",
    "s.timeout = 2            # temps d'attente (en s) des données du spectrophotomètre\n",
    "s.xonxoff = False     #disable software flow control\n",
    "s.rtscts = False     #disable hardware (RTS/CTS) flow control\n",
    "s.dsrdtr = False       #disable hardware (DSR/DTR) flow control\n",
    "s.writeTimeout = 2     #timeout for write\n",
    "\n",
    "from pylab import *    # charge toutes les bibliothèques scientifiques\n",
    "%matplotlib ipympl\n",
    "rcParams['figure.figsize'] = [16, 8]    # pour une fenetre graphique adaptée\n",
    "rcParams['font.size'] = 15    # pour un texte plus grand\n",
    "rcParams['lines.markersize'] = 15    # pour des symboles plus grands\n",
    "rcParams['lines.markeredgewidth'] = 2    # pour des symboles plus larges"
   ]
  },
  {
   "cell_type": "markdown",
   "metadata": {
    "tags": [
     "remove_cell"
    ]
   },
   "source": [
    "Lecture des données du spectrophotomètre :"
   ]
  },
  {
   "cell_type": "code",
   "execution_count": null,
   "metadata": {
    "jupyter": {
     "source_hidden": true
    },
    "tags": [
     "remove_cell"
    ]
   },
   "outputs": [],
   "source": [
    "donnees = \"\"\n",
    "s.open()\n",
    "lignes = s.readlines()\n",
    "\n",
    "for i in lignes :\n",
    "    ligne = re.sub(r\"[^0-9\\.\\s]\",\"\",str(i.decode(\"utf8\")))\n",
    "    ligne = re.sub(r\" +\",\",\",ligne)\n",
    "    donnees += ligne\n",
    "s.close()\n",
    "fichier = open(\"donnees/courbeSpectro.csv\", 'w')\n",
    "fichier.write(donnees)\n",
    "fichier.close()\n",
    "print(donnees)"
   ]
  },
  {
   "cell_type": "markdown",
   "metadata": {
    "tags": [
     "remove_cell"
    ]
   },
   "source": [
    "Importation de tableaux enregistrés localement en fichiers csv, avec attribution **manuelle** des noms de variables :"
   ]
  },
  {
   "cell_type": "code",
   "execution_count": null,
   "metadata": {
    "jupyter": {
     "source_hidden": true
    },
    "tags": [
     "remove_cell"
    ]
   },
   "outputs": [],
   "source": [
    "tableau = genfromtxt('donnees/courbeSpectro.csv', delimiter = ',', skip_header=8)    # skip_header permet de ne pas lire les n premières lignes du fichier (utile si il y a des en-têtes) ; delimiter est le signe séparant les valeurs dans les différentes colonnes : par exemple, on peut parfois mettre delimiter=None si les séparateurs sont des espaces\n",
    "x = tableau[:, 0] # On enregistre la première colonne sous le nom x\n",
    "y = tableau[:, 1] # On enregistre la deuxième colonne sous le nom y    # etc... s'il y a d'autres colonnes"
   ]
  },
  {
   "cell_type": "markdown",
   "metadata": {},
   "source": [
    "Tracer de graphique(s) à partir des tableaux précédents :"
   ]
  },
  {
   "cell_type": "code",
   "execution_count": null,
   "metadata": {},
   "outputs": [],
   "source": [
    "subplot(1, 1, 1)    # lignes, colonnes, numéro du graphique\n",
    "\n",
    "plot(x, y, '-', label=\"\")    # abscisse, ordonnée, options : + o . , s points   - -- -. : lignes  b g r y m c k w couleurs ; label est la légende associée à la courbe\n",
    "\n",
    "#axis('equal')    # à décommenter si on souhaite un repère orthonormé\n",
    "grid()    # ajoute une grille\n",
    "legend()    # ajoute la légende au graphique\n",
    "title(\"Spectre UV visible du sulfate de cuivre en solution aqueuse\")    # mettre le titre désiré entre les guillemets\n",
    "xlabel(\"Longueur d'onde (nm)\")    # mettre le nom de l'axe des abscisses entre les guillemets\n",
    "ylabel(\"Absorbance\");    # mettre le nom de l'axe des ordonnées entre les guillemets. Le point-virgule final évite d'afficher un texte récapitulatif."
   ]
  }
 ],
 "metadata": {
  "kernelspec": {
   "display_name": "Python 3 (ipykernel)",
   "language": "python",
   "name": "python3"
  },
  "language_info": {
   "codemirror_mode": {
    "name": "ipython",
    "version": 3
   },
   "file_extension": ".py",
   "mimetype": "text/x-python",
   "name": "python",
   "nbconvert_exporter": "python",
   "pygments_lexer": "ipython3",
   "version": "3.10.6"
  },
  "widgets": {
   "application/vnd.jupyter.widget-state+json": {
    "state": {},
    "version_major": 2,
    "version_minor": 0
   }
  }
 },
 "nbformat": 4,
 "nbformat_minor": 4
}
