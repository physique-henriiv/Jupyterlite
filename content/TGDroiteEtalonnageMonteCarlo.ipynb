{
 "cells": [
  {
   "cell_type": "markdown",
   "metadata": {
    "editable": true,
    "slideshow": {
     "slide_type": ""
    },
    "tags": []
   },
   "source": [
    "On commence par importer les bibliothèques nécessaires :"
   ]
  },
  {
   "cell_type": "code",
   "execution_count": null,
   "metadata": {
    "editable": true,
    "jupyter": {
     "source_hidden": true
    },
    "slideshow": {
     "slide_type": ""
    },
    "tags": []
   },
   "outputs": [],
   "source": [
    "from pylab import *    # charge toutes les bibliothèques scientifiques\n",
    "from numpy.random import normal    # charge la fonction de génération de distribution selon une loi normale\n",
    "%matplotlib ipympl\n",
    "rcParams['figure.figsize'] = [16, 8]    # pour une fenetre graphique adaptée\n",
    "rcParams['font.size'] = 15    # pour un texte plus grand\n",
    "rcParams['lines.markersize'] = 15    # pour des symboles plus grands\n",
    "rcParams['lines.markeredgewidth'] = 2    # pour des symboles plus larges"
   ]
  },
  {
   "cell_type": "markdown",
   "metadata": {},
   "source": [
    "Entrer les valeurs mesurées des grandeurs dans des tableaux, ainsi que leurs incertitudes types :"
   ]
  },
  {
   "cell_type": "code",
   "execution_count": null,
   "metadata": {},
   "outputs": [],
   "source": [
    "c = 1e-2*array([1, 2, 3, 4, 5])\n",
    "uc = 1e-3\n",
    "A = array([0.05, 0.1, 0.15, 0.21, 0.27])\n",
    "uA = 0.01"
   ]
  },
  {
   "cell_type": "raw",
   "metadata": {
    "jupyter": {
     "source_hidden": true
    }
   },
   "source": [
    "Pour représenter graphiquement les données numériques présentes dans les variables, il faut adapter la ligne suivante :\n",
    "\n",
    "plot(x, y, '+', label=\"\")\n",
    "\n",
    "Dans la parenthèse, on détaille les arguments à donner à la fonction de traçage plot séparés par des virgules : d'abord la grandeur qui se placera en abscisse, puis celle en ordonnée, puis entre apostrophes le style de représentation : la lettre est la couleur (k noir, r rouge, b bleu, m magenta, y jaune, g vert, c cyan, o orange\\ldots), le signe est le type de points (+ croix droites, x croix penchées, - points reliés par des segments...), et enfin le texte à inscrire éventuellement en légende de la courbe ce qui est utile notamment si on représente plusieurs courbes sur le même graphique.\n",
    "\n",
    "Par exemple, pour tracer des valeurs de tensions $U$ en fonction du temps $t$, avec des points représentés par des croix et reliés par des segments bleus, et en légende \"Évolution temporelle de la tension $U$\", on écrira :\n",
    "\n",
    "plot(t, U, 'b+-', label=\"Évolution temporelle de la tension U\")\n",
    "\n",
    "Pour superposer plusieurs courbes sur le même graphique, on ajoute d'autres lignes de même type en modifiant les arguments.\n",
    "\n",
    "Si on préfère représenter des courbes sur des graphiques différents, il faut adapter la commande subplot(i j k) avant de décrire la courbe à tracer par plot : le premier numéro (i) indique combien de lignes comptera la grille de graphiques, le deuxième (j) indique combien il y a de colonnes, et le dernier (k) est le numéro du graphique, compté dans le sens de la lecture. \n",
    "\n",
    "Par exemple, subplot(2, 3, 5) indique que le graphique sera le cinquième dans une grille comptant 2 lignes et 3 colonnes : il s'affichera donc à la deuxième ligne, deuxième colonne.\n",
    "\n",
    "La personnalisation du graphique peut se faire en changeant la taille du graphique affiché, en ajoutant un titre : title(\"Ici j'écris mon titre\"), en affichant la légende pour chaque courbe : legend() sans argument, en mettant des noms sur les axes : xlabel(\"le nom de l'abscisse\") et ylabel(\"le nom de l'ordonnée\"), en forçant les échelles à être identiques sur chaque axe : axis('equal'), et en affichant une grille : grid()."
   ]
  },
  {
   "cell_type": "markdown",
   "metadata": {},
   "source": [
    "Visualisation du graphique pour s'assurer de la cohérence des mesures :"
   ]
  },
  {
   "cell_type": "code",
   "execution_count": null,
   "metadata": {},
   "outputs": [],
   "source": [
    "subplot(1, 1, 1)    # lignes, colonnes, numéro du graphique\n",
    "\n",
    "plot(c, A, '+')    # abscisse, ordonnée, options : + o . , s points   - -- -. : lignes  b g r y m c k w couleurs\n",
    "\n",
    "grid()    # ajoute une grille\n",
    "title(r\"droite d'étalonnage\")    # mettre le titre désiré entre les guillemets\n",
    "xlabel(\"$c$ (mol/L)\")    # mettre le nom de l'axe des abscisses entre les guillemets\n",
    "ylabel(\"$A$\");    # mettre le nom de l'axe des ordonnées entre les guillemets. Le point-virgule final évite d'afficher un texte récapitulatif."
   ]
  },
  {
   "cell_type": "markdown",
   "metadata": {},
   "source": [
    "Tirages aléatoires de valeurs selon la méthode Monte Carlo et calcul pour chaque tirage du coefficient directeur et de l'ordonnée à l'origine pour un modèle de type $y=ax+b$ :"
   ]
  },
  {
   "cell_type": "code",
   "execution_count": null,
   "metadata": {},
   "outputs": [],
   "source": [
    "a = []    # liste vide pour les coefficients direxteurs\n",
    "b = []    # liste vide pour les ordonnées à l'origine\n",
    "\n",
    "tirages = 100000    # nombre de simulations\n",
    "\n",
    "for _ in range(tirages):\n",
    "    calea = normal(c,uc)    # tirage aléatoire selon une loi normale\n",
    "    Aalea = normal(A,uA)\n",
    "    \n",
    "    # Insérer ici si nécessaire les formules permettant les calculs des grandeurs en abscisse et en ordonnée :\n",
    "    \n",
    "    \n",
    "    p = polyfit(calea ,Aalea ,1)    # calcul des coefficients du modèle\n",
    "    a.append(p[0])\n",
    "    b.append(p[1])"
   ]
  },
  {
   "cell_type": "markdown",
   "metadata": {},
   "source": [
    "Calcul et affichage des valeurs moyennes et incertitudes-types pour le coefficient directeur et l'ordonnée à l'origine :"
   ]
  },
  {
   "cell_type": "code",
   "execution_count": null,
   "metadata": {},
   "outputs": [],
   "source": [
    "amoy = mean(a)\n",
    "bmoy = mean(b)\n",
    "ua = std(a, ddof=1)\n",
    "ub = std(b, ddof=1)\n",
    "\n",
    "resultat = f\"coefficient directeur : {amoy:.5} incertitude : {ua:.5} ; ordonnée à l'origine : {bmoy:.5} incertitude : {ub:.5}\"\n",
    "print(resultat)"
   ]
  },
  {
   "cell_type": "markdown",
   "metadata": {},
   "source": [
    "Valeur mesurée :"
   ]
  },
  {
   "cell_type": "code",
   "execution_count": null,
   "metadata": {},
   "outputs": [],
   "source": [
    "Ames = 0.13"
   ]
  },
  {
   "cell_type": "markdown",
   "metadata": {},
   "source": [
    "Calcul de la valeur de la concentration et de son incertitude-type :"
   ]
  },
  {
   "cell_type": "code",
   "execution_count": null,
   "metadata": {},
   "outputs": [],
   "source": [
    "Amesalea = normal(Ames, uA, tirages)\n",
    "cmesalea = (Amesalea - array(b)) / array(a)\n",
    "\n",
    "cmesmoy = mean(cmesalea)\n",
    "ucmes = std(cmesalea, ddof=1)\n",
    "\n",
    "resultat = f\"concentration moyenne : {cmesmoy:.5} ; incertitude-type : {ucmes:.5}\"\n",
    "print(resultat)"
   ]
  }
 ],
 "metadata": {
  "kernelspec": {
   "display_name": "Python 3 (ipykernel)",
   "language": "python",
   "name": "python3"
  },
  "language_info": {
   "codemirror_mode": {
    "name": "ipython",
    "version": 3
   },
   "file_extension": ".py",
   "mimetype": "text/x-python",
   "name": "python",
   "nbconvert_exporter": "python",
   "pygments_lexer": "ipython3",
   "version": "3.10.12"
  }
 },
 "nbformat": 4,
 "nbformat_minor": 4
}
