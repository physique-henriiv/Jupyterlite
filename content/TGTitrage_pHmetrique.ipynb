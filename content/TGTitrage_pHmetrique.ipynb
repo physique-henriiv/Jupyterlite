{
 "cells": [
  {
   "cell_type": "markdown",
   "metadata": {
    "editable": true,
    "hideCode": true,
    "hidePrompt": false,
    "slideshow": {
     "slide_type": ""
    },
    "tags": [
     "remove_cell"
    ]
   },
   "source": [
    "On commence par importer les bibliothèques nécessaires. Attention : NE PAS EFFACER !"
   ]
  },
  {
   "cell_type": "code",
   "execution_count": null,
   "metadata": {
    "editable": true,
    "hideCode": true,
    "hidePrompt": true,
    "jupyter": {
     "source_hidden": true
    },
    "slideshow": {
     "slide_type": ""
    },
    "tags": [
     "remove_cell"
    ]
   },
   "outputs": [],
   "source": [
    "from pylab import *    # charge toutes les bibliothèques scientifiques\n",
    "from scipy import *\n",
    "%matplotlib ipympl\n",
    "rcParams['figure.figsize'] = [16, 8]    # pour une fenetre graphique adaptée\n",
    "rcParams['font.size'] = 15    # pour un texte plus grand\n",
    "rcParams['lines.markersize'] = 15    # pour des symboles plus grands\n",
    "rcParams['lines.markeredgewidth'] = 2    # pour des symboles plus larges"
   ]
  },
  {
   "cell_type": "markdown",
   "metadata": {},
   "source": [
    "Importation de tableaux enregistrés localement en fichiers csv :"
   ]
  },
  {
   "cell_type": "code",
   "execution_count": null,
   "metadata": {
    "jupyter": {
     "source_hidden": true
    }
   },
   "outputs": [],
   "source": [
    "noms = True    # si le fichier csv contient les noms des variables, laisser True, sinon indiquer False\n",
    "tableau = genfromtxt('../untitled.csv', delimiter=',', skip_header=0, names=noms)    # skip_header permet de ne pas lire les n premières lignes du fichier (utile si il y a des en-têtes) ; delimiter est le signe séparant les valeurs dans les différentes colonnes : par exemple, on peut parfois mettre delimiter=None si les séparateurs sont des espaces\n",
    "    \n",
    "if noms :    # dans le cas d'attribution automatique des noms\n",
    "    for i in tableau.dtype.names:    # pour chaque nom détecté en en-tete de colonnes\n",
    "        globals()[i] = tableau[i]    # on crée une variable qui porte le meme nom et on y attribue les valeurs de la colonne\n",
    "\n",
    "else :    # si on veut attribuer les noms manuellement\n",
    "    V = tableau[:, 0] # On enregistre la première colonne sous le nom V\n",
    "    pH = tableau[:, 1] # On enregistre la deuxième colonne sous le nom pH    # etc... s'il y a d'autres colonnes"
   ]
  },
  {
   "cell_type": "markdown",
   "metadata": {},
   "source": [
    "On lisse les valeurs de pH et on dérive numériquement le pH par rapport au volume versé :"
   ]
  },
  {
   "cell_type": "code",
   "execution_count": null,
   "metadata": {},
   "outputs": [],
   "source": [
    "tck = interpolate.splrep(V, pH, s=0.003) # la fonction renvoie un tuple contenant les informations du lissage\n",
    "# le paramètre 's' permet d'ajuster le lissage : s=0 la courbe passe obligatoirement par tous les points.\n",
    "# on peut ajuster le lissage de sorte que la dérivée ne soit pas trop bruitée\n",
    "\n",
    "vecV = linspace(0,9,1000) # On définit un vecteur de volumes régulièrement espacés pour le tracé et le calcul de la dérivée\n",
    "pHLisse = interpolate.splev(vecV,tck) # On calcule le lissage des points de mesures\n",
    "\n",
    "dervpH = gradient(pHLisse) / gradient(vecV) # On calcule la dérivée du pH par rapport au volume\n",
    "dervpH = dervpH/max(dervpH)*10 # on normalise la valeur de la dérivée pour l'ajuste à l'affichage"
   ]
  },
  {
   "cell_type": "markdown",
   "metadata": {
    "hideCode": false,
    "hidePrompt": false
   },
   "source": [
    "Tracer de graphique(s) à partir des tableaux précédents :"
   ]
  },
  {
   "cell_type": "code",
   "execution_count": null,
   "metadata": {
    "hideCode": false,
    "hidePrompt": false
   },
   "outputs": [],
   "source": [
    "subplot(1, 1, 1)    # lignes, colonnes, numéro du graphique\n",
    "\n",
    "plot(V, pH, '+', label=\"\")    # abscisse, ordonnée, options : + o . , s points   - -- -. : lignes  b g r y m c k w couleurs ; label est la légende associée à la courbe\n",
    "plot(vecV, pHLisse, '-', label=\"\")\n",
    "plot(vecV, dervpH, '-', label=\"\") \n",
    "\n",
    "#axis('equal')    # à décommenter si on souhaite un repère orthonormé\n",
    "grid()    # ajoute une grille\n",
    "legend()    # ajoute la légende au graphique\n",
    "title(\"Mon titre\")    # mettre le titre désiré entre les guillemets\n",
    "xlabel(\"\")    # mettre le nom de l'axe des abscisses entre les guillemets\n",
    "ylabel(\"\");    # mettre le nom de l'axe des ordonnées entre les guillemets. Le point-virgule final évite d'afficher un texte récapitulatif."
   ]
  }
 ],
 "metadata": {
  "celltoolbar": "Hide code",
  "hide_code_all_hidden": false,
  "kernelspec": {
   "display_name": "Python 3",
   "language": "python",
   "name": "python3"
  },
  "language_info": {
   "codemirror_mode": {
    "name": "ipython",
    "version": 3
   },
   "file_extension": ".py",
   "mimetype": "text/x-python",
   "name": "python",
   "nbconvert_exporter": "python",
   "pygments_lexer": "ipython3",
   "version": "3.11.4"
  },
  "widgets": {
   "application/vnd.jupyter.widget-state+json": {
    "state": {},
    "version_major": 2,
    "version_minor": 0
   }
  }
 },
 "nbformat": 4,
 "nbformat_minor": 4
}
