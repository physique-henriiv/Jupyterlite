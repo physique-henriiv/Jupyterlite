{
 "cells": [
  {
   "cell_type": "markdown",
   "metadata": {
    "slideshow": {
     "slide_type": ""
    },
    "tags": []
   },
   "source": [
    "On commence par importer les bibliothèques nécessaires. Attention : NE PAS EFFACER !"
   ]
  },
  {
   "cell_type": "code",
   "execution_count": null,
   "metadata": {
    "slideshow": {
     "slide_type": ""
    },
    "tags": []
   },
   "outputs": [],
   "source": [
    "from pylab import *    # charge toutes les bibliothèques scientifiques\n",
    "import serial\n",
    "import time\n",
    "\n",
    "# Spécifiez le port série et la vitesse de communication (bauds)\n",
    "port = '/dev/ttyACM0'  # Remplacez par le port approprié (ex. '/dev/ttyUSB0' sur Linux)\n",
    "baudrate = 9600  # Assurez-vous que la vitesse correspond à celle configurée sur la carte Arduino\n",
    "\n",
    "# Ouvrir la connexion série\n",
    "ser = serial.Serial(port, baudrate)\n",
    "\n",
    "# Attendre un court instant pour permettre la connexion\n",
    "time.sleep(2)\n",
    "\n",
    "\n",
    "# Paramètres de graphique\n",
    "%matplotlib ipympl\n",
    "rcParams['figure.figsize'] = [16, 8]    # pour une fenetre graphique adaptée\n",
    "rcParams['font.size'] = 15    # pour un texte plus grand\n",
    "rcParams['lines.markersize'] = 15    # pour des symboles plus grands\n",
    "rcParams['lines.markeredgewidth'] = 2    # pour des symboles plus larges"
   ]
  },
  {
   "cell_type": "code",
   "execution_count": null,
   "metadata": {
    "tags": []
   },
   "outputs": [],
   "source": [
    "ser.flushInput()  # Vider le tampon de réception\n",
    "\n",
    "# Envoyer la commande de reset\n",
    "ser.setDTR(False)  # DTR (Data Terminal Ready) à l'état bas pendant un court instant\n",
    "time.sleep(0.1)\n",
    "ser.setDTR(True)  # DTR à l'état haut pour terminer le reset\n",
    "\n",
    "# Liste pour stocker les données\n",
    "liste_donnees = []\n",
    "\n",
    "while True:\n",
    "    try:\n",
    "        # Lire une ligne de données depuis le port série\n",
    "        ligne = ser.readline().decode().strip()\n",
    "\n",
    "        # Vérifier si la ligne est vide ou invalide\n",
    "        if ligne == '':\n",
    "            continue\n",
    "\n",
    "        # Convertir la ligne en nombre (assumant que les données sont des nombres)\n",
    "        valeur = float(ligne)\n",
    "        \n",
    "        # Ajouter les données à la liste\n",
    "        liste_donnees.append(valeur)\n",
    "\n",
    "    except KeyboardInterrupt:\n",
    "        # Interrompre la boucle si l'utilisateur appuie sur Ctrl+C\n",
    "        break\n",
    "\n",
    "# Fermer la connexion série\n",
    "ser.close()"
   ]
  },
  {
   "cell_type": "code",
   "execution_count": null,
   "metadata": {},
   "outputs": [],
   "source": [
    "donnees = array(liste_donnees)\n",
    "print(f\"valeurs mesurées : {donnees}\")"
   ]
  },
  {
   "cell_type": "markdown",
   "metadata": {},
   "source": [
    "Calculs statistiques (moyenne, écart-type et incertitude-type) sur une série de mesures x :"
   ]
  },
  {
   "cell_type": "code",
   "execution_count": null,
   "metadata": {},
   "outputs": [],
   "source": [
    "variable = donnees\n",
    "moy = mean(variable)\n",
    "ecartType = std(variable, ddof=1)  # ddof=1 permet de calculer l'écart-type expérimental Sn-1\n",
    "incertitudeType = ecartType / sqrt(len(variable))"
   ]
  },
  {
   "cell_type": "markdown",
   "metadata": {},
   "source": [
    "Affichage des valeurs statistiques :"
   ]
  },
  {
   "cell_type": "code",
   "execution_count": null,
   "metadata": {},
   "outputs": [],
   "source": [
    "resultat = f\"moyenne : {moy:.5} ; incertitude-type : {incertitudeType:.2}\"    # crée une ligne de texte résumant les résultats\n",
    "print(resultat)    # affiche le résultat"
   ]
  },
  {
   "cell_type": "markdown",
   "metadata": {},
   "source": [
    "On trace l'histogramme :"
   ]
  },
  {
   "cell_type": "code",
   "execution_count": null,
   "metadata": {},
   "outputs": [],
   "source": [
    "subplot(1, 1, 1)    # lignes, colonnes, numéro du graphique\n",
    "\n",
    "hist(variable, bins=50, label=resultat)    # trace un histogramme à partir d'une série de mesures x ; options possibles : range=(,) et bins=nombre ou liste.\n",
    "\n",
    "grid()    # ajoute une grille\n",
    "legend()    # ajoute la légende au graphique\n",
    "title(\"\")    # mettre le titre désiré entre les guillemets\n",
    "xlabel(\"x\")    # mettre le nom de l'axe des abscisses entre les guillemets\n",
    "ylabel(\"Nombre de tirages\");    # mettre le nom de l'axe des ordonnées entre les guillemets. Le point-virgule final évite d'afficher un texte récapitulatif."
   ]
  }
 ],
 "metadata": {
  "kernelspec": {
   "display_name": "Python 3 (ipykernel)",
   "language": "python",
   "name": "python3"
  },
  "language_info": {
   "codemirror_mode": {
    "name": "ipython",
    "version": 3
   },
   "file_extension": ".py",
   "mimetype": "text/x-python",
   "name": "python",
   "nbconvert_exporter": "python",
   "pygments_lexer": "ipython3",
   "version": "3.10.12"
  },
  "widgets": {
   "application/vnd.jupyter.widget-state+json": {
    "state": {},
    "version_major": 2,
    "version_minor": 0
   }
  }
 },
 "nbformat": 4,
 "nbformat_minor": 4
}
