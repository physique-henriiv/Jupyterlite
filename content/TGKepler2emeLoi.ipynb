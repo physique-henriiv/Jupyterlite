{
 "cells": [
  {
   "cell_type": "markdown",
   "metadata": {
    "editable": true,
    "slideshow": {
     "slide_type": ""
    },
    "tags": []
   },
   "source": [
    "On commence par importer les bibliothèques nécessaires :"
   ]
  },
  {
   "cell_type": "code",
   "execution_count": null,
   "metadata": {
    "editable": true,
    "jupyter": {
     "source_hidden": true
    },
    "slideshow": {
     "slide_type": ""
    },
    "tags": []
   },
   "outputs": [],
   "source": [
    "from pylab import *    # charge toutes les bibliothèques scientifiques\n",
    "from scipy.optimize import curve_fit    # permet de modéliser selon un modèle personnalisé\n",
    "%matplotlib ipympl\n",
    "rcParams['figure.figsize'] = [16, 8]    # pour une fenetre graphique adaptée\n",
    "rcParams['font.size'] = 15    # pour un texte plus grand\n",
    "rcParams['lines.markersize'] = 15    # pour des symboles plus grands\n",
    "rcParams['lines.markeredgewidth'] = 2    # pour des symboles plus larges"
   ]
  },
  {
   "cell_type": "markdown",
   "metadata": {
    "editable": true,
    "slideshow": {
     "slide_type": ""
    },
    "tags": []
   },
   "source": [
    "Importation de tableaux enregistrés localement en fichiers csv, avec attribution **manuelle** des noms de variables :"
   ]
  },
  {
   "cell_type": "code",
   "execution_count": null,
   "metadata": {},
   "outputs": [],
   "source": [
    "tableau = genfromtxt('../donnees/NomDuFichier.csv', delimiter=';', skip_header=1)    # skip_header permet de ne pas lire les n premières lignes du fichier (utile si il y a des en-têtes) ; delimiter est le signe séparant les valeurs dans les différentes colonnes : par exemple, on peut parfois mettre delimiter=None si les séparateurs sont des espaces\n",
    "x = tableau[:, 1] # On enregistre la première colonne sous le nom x\n",
    "y = tableau[:, 2] # On enregistre la deuxième colonne sous le nom y\n",
    "vecteurs = tableau[:, 1:3]"
   ]
  },
  {
   "cell_type": "markdown",
   "metadata": {},
   "source": [
    "Indiquer ici les jours de démarrage des calculs d'aires dans une liste ainsi que la durée de l'intervalle de temps choisi :\n",
    "Les aires sont calculées par la fonction cross(coordonnées du vecteur 1, coordonnées du vecteur 2), qui calcule le produit vectoriel entre ${\\tt vecteur 1}$ et ${\\tt vecteur 2}$ et renvoie l'aire du triangle formé par les deux vecteurs d'origine commune.\n",
    "On additionne ensuite ces aires sur toute la durée de l'arc défini."
   ]
  },
  {
   "cell_type": "code",
   "execution_count": null,
   "metadata": {},
   "outputs": [],
   "source": [
    "joursDepart = []\n",
    "duree =\n",
    "\n",
    "aires = 0.5 * cross(vecteurs[:-1],vecteurs[1:])    # renvoie un tableau contenant les aires de chaque triangle formé par 2 vecteurs successifs\n",
    "A = sum([aires[i:i+duree] for i in joursDepart], axis = 1)    # calcule les aires cumulées sur les périodes demandées, sous forme de liste"
   ]
  },
  {
   "cell_type": "raw",
   "metadata": {
    "jupyter": {
     "source_hidden": true
    }
   },
   "source": [
    "Pour représenter graphiquement les données numériques présentes dans les variables, il faut adapter la ligne suivante :\n",
    "\n",
    "plot(x,y,'+',label=\"\")\n",
    "\n",
    "Dans la parenthèse, on détaille les arguments à donner à la fonction de traçage plot séparés par des virgules : d'abord la grandeur qui se placera en abscisse, puis celle en ordonnée, puis entre apostrophes le style de représentation : la lettre est la couleur (k noir, r rouge, b bleu, m magenta, y jaune, g vert, c cyan, o orange\\ldots), le signe est le type de points (+ croix droites, x croix penchées, - points reliés par des segments...), et enfin le texte à inscrire éventuellement en légende de la courbe ce qui est utile notamment si on représente plusieurs courbes sur le même graphique.\n",
    "\n",
    "Par exemple, pour tracer des valeurs de tensions $U$ en fonction du temps $t$, avec des points représentés par des croix et reliés par des segments bleus, et en légende \"Évolution temporelle de la tension $U$\", on écrira :\n",
    "\n",
    "plot(t,U,'b+-',label=\"Évolution temporelle de la tension U\")\n",
    "\n",
    "Pour superposer plusieurs courbes sur le même graphique, on ajoute d'autres lignes de même type en modifiant les arguments.\n",
    "\n",
    "Si on préfère représenter des courbes sur des graphiques différents, il faut adapter la commande subplot(ijk) avant de décrire la courbe à tracer par plot : le premier numéro (i) indique combien de lignes comptera la grille de graphiques, le deuxième (j) indique combien il y a de colonnes, et le dernier (k) est le numéro du graphique, compté dans le sens de la lecture. \n",
    "\n",
    "Par exemple, subplot(2,3,5) indique que le graphique sera le cinquième dans une grille comptant 2 lignes et 3 colonnes : il s'affichera donc à la deuxième ligne, deuxième colonne.\n",
    "\n",
    "La personnalisation du graphique peut se faire en changeant la taille du graphique affiché, en ajoutant un titre : title(\"Ici j'écris mon titre\"), en affichant la légende pour chaque courbe : legend() sans argument, en mettant des noms sur les axes : xlabel(\"le nom de l'abscisse\") et ylabel(\"le nom de l'ordonnée\"), en forçant les échelles à être identiques sur chaque axe : axis('equal'), et en affichant une grille : grid()."
   ]
  },
  {
   "cell_type": "markdown",
   "metadata": {},
   "source": [
    "Tracer de graphique(s) à partir des tableaux précédents :"
   ]
  },
  {
   "cell_type": "code",
   "execution_count": null,
   "metadata": {},
   "outputs": [],
   "source": [
    "subplot(1, 1, 1)    # lignes, colonnes, numéro du graphique\n",
    "\n",
    "plot(x, y, '-')    # abscisse, ordonnée, options : + o . , s points   - -- -. : lignes  b g r y m c k w couleurs ; label est la légende associée à la courbe\n",
    "for i in range(len(joursDepart)):    # pour chaque élément dans la liste joursDepart\n",
    "    fill(append(x[joursDepart[i]:joursDepart[i] + duree], 0),append(y[joursDepart[i]:joursDepart[i] + duree], 0), label = f\"Aire : {A[i]:.4}\") #    on remplit la zone correspondant à chaque point de la trajectoire et le point d'origine\n",
    "axis('equal')\n",
    "grid()    # ajoute une grille\n",
    "legend()    # ajoute la légende au graphique\n",
    "title(\"\")    # mettre le titre désiré entre les guillemets\n",
    "xlabel(\"\")    # mettre le nom de l'axe des abscisses entre les guillemets\n",
    "ylabel(\"\");    # mettre le nom de l'axe des ordonnées entre les guillemets. Le point-virgule final évite d'afficher un texte récapitulatif."
   ]
  },
  {
   "cell_type": "code",
   "execution_count": null,
   "metadata": {},
   "outputs": [],
   "source": []
  }
 ],
 "metadata": {
  "kernelspec": {
   "display_name": "Python 3 (ipykernel)",
   "language": "python",
   "name": "python3"
  },
  "language_info": {
   "codemirror_mode": {
    "name": "ipython",
    "version": 3
   },
   "file_extension": ".py",
   "mimetype": "text/x-python",
   "name": "python",
   "nbconvert_exporter": "python",
   "pygments_lexer": "ipython3",
   "version": "3.10.6"
  },
  "widgets": {
   "application/vnd.jupyter.widget-state+json": {
    "state": {},
    "version_major": 2,
    "version_minor": 0
   }
  }
 },
 "nbformat": 4,
 "nbformat_minor": 4
}
