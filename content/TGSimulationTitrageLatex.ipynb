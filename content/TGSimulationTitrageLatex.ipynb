{
 "cells": [
  {
   "cell_type": "markdown",
   "metadata": {
    "editable": true,
    "slideshow": {
     "slide_type": ""
    },
    "tags": []
   },
   "source": [
    "On commence par importer les bibliothèques nécessaires. Attention : NE PAS EFFACER !"
   ]
  },
  {
   "cell_type": "code",
   "execution_count": null,
   "metadata": {
    "editable": true,
    "jupyter": {
     "source_hidden": true
    },
    "slideshow": {
     "slide_type": ""
    },
    "tags": []
   },
   "outputs": [],
   "source": [
    "from pylab import *    # charge toutes les bibliothèques scientifiques\n",
    "from IPython.display import Markdown\n",
    "%matplotlib ipympl\n",
    "rcParams['figure.figsize'] = [16, 8]    # pour une fenetre graphique adaptée\n",
    "rcParams['font.size'] = 20    # pour un texte plus grand\n",
    "rcParams['text.usetex'] = True    # pour que le texte des graphiques soit rendu par LaTeX\n",
    "rcParams['font.family'] = \"serif\"    # pour que la police d'écriture dans les graphiques soit avec empatement"
   ]
  },
  {
   "cell_type": "markdown",
   "metadata": {},
   "source": [
    "L'équation de réaction associée au tirage est (à adapter en fonction du cas traité) :\n",
    "\n",
    "$$aA + bB \\rightarrow cC + dD$$\n",
    "\n",
    "Entrer les formules chimiques des espèces en présence :"
   ]
  },
  {
   "cell_type": "code",
   "execution_count": null,
   "metadata": {},
   "outputs": [],
   "source": [
    "A = \"\"\n",
    "B = \"\"\n",
    "C = \"\"\n",
    "D = \"\"\n",
    "\n",
    "CatSpect = \"\"\n",
    "AnSpect = \"\""
   ]
  },
  {
   "cell_type": "markdown",
   "metadata": {},
   "source": [
    "Entrer les nombres stoechiométriques de l'équation :"
   ]
  },
  {
   "cell_type": "code",
   "execution_count": null,
   "metadata": {},
   "outputs": [],
   "source": [
    "a = \n",
    "b = \n",
    "c = \n",
    "d = "
   ]
  },
  {
   "cell_type": "markdown",
   "metadata": {},
   "source": [
    "Entrer les valeurs connues relatives aux solutions :"
   ]
  },
  {
   "cell_type": "code",
   "execution_count": null,
   "metadata": {},
   "outputs": [],
   "source": [
    "cA = \n",
    "VA = \n",
    "cB = "
   ]
  },
  {
   "cell_type": "raw",
   "metadata": {
    "jupyter": {
     "source_hidden": true
    }
   },
   "source": [
    "linspace(debut, fin, nombre de valeurs) définit une série de valeurs régulièrement réparties allant de début à fin et contenant un nombre de valeurs donné en troisième argument.\n",
    "maximum compare deux séries de valeurs (ou une série et une constante comme ici) et conserve pour chaque rang la valeur la plus grande."
   ]
  },
  {
   "cell_type": "markdown",
   "metadata": {},
   "source": [
    "Calcul des quantités de matière de réactifs et produits en fonction du volume VB versé.\n",
    "\n",
    "Entrer les formules issues du tableau d'avancement pour les calculs de nA, nB et nC"
   ]
  },
  {
   "cell_type": "code",
   "execution_count": null,
   "metadata": {},
   "outputs": [],
   "source": [
    "VB = linspace(0, 25e-3, 100)\n",
    "nA = maximum(, 0)\n",
    "nB = maximum(, 0)\n",
    "nC = "
   ]
  },
  {
   "cell_type": "markdown",
   "metadata": {},
   "source": [
    "Calculs des quantitéss d'ions spectateurs :\n",
    "\n",
    "Entrer les formules"
   ]
  },
  {
   "cell_type": "code",
   "execution_count": null,
   "metadata": {},
   "outputs": [],
   "source": [
    "nCatSpect = \n",
    "nAnSpect = "
   ]
  },
  {
   "cell_type": "raw",
   "metadata": {
    "jupyter": {
     "source_hidden": true
    }
   },
   "source": [
    "Pour représenter graphiquement les données numériques présentes dans les variables, il faut adapter la ligne suivante :\n",
    "\n",
    "plot(x, y, '+', label=\"\")\n",
    "\n",
    "Dans la parenthèse, on détaille les arguments à donner à la fonction de traçage plot séparés par des virgules : d'abord la grandeur qui se placera en abscisse, puis celle en ordonnée, puis entre apostrophes le style de représentation : la lettre est la couleur (k noir, r rouge, b bleu, m magenta, y jaune, g vert, c cyan, o orange\\ldots), le signe est le type de points (+ croix droites, x croix penchées, - points reliés par des segments...), et enfin le texte à inscrire éventuellement en légende de la courbe ce qui est utile notamment si on représente plusieurs courbes sur le même graphique.\n",
    "\n",
    "Par exemple, pour tracer des valeurs de tensions $U$ en fonction du temps $t$, avec des points représentés par des croix et reliés par des segments bleus, et en légende \"Évolution temporelle de la tension $U$\", on écrira :\n",
    "\n",
    "plot(t, U, 'b+-', label=\"Évolution temporelle de la tension U\")\n",
    "\n",
    "Pour superposer plusieurs courbes sur le même graphique, on ajoute d'autres lignes de même type en modifiant les arguments.\n",
    "\n",
    "Si on préfère représenter des courbes sur des graphiques différents, il faut adapter la commande subplot(i j k) avant de décrire la courbe à tracer par plot : le premier numéro (i) indique combien de lignes comptera la grille de graphiques, le deuxième (j) indique combien il y a de colonnes, et le dernier (k) est le numéro du graphique, compté dans le sens de la lecture. \n",
    "\n",
    "Par exemple, subplot(2, 3, 5) indique que le graphique sera le cinquième dans une grille comptant 2 lignes et 3 colonnes : il s'affichera donc à la deuxième ligne, deuxième colonne.\n",
    "\n",
    "La personnalisation du graphique peut se faire en changeant la taille du graphique affiché, en ajoutant un titre : title(\"Ici j'écris mon titre\"), en affichant la légende pour chaque courbe : legend() sans argument, en mettant des noms sur les axes : xlabel(\"le nom de l'abscisse\") et ylabel(\"le nom de l'ordonnée\"), en forçant les échelles à être identiques sur chaque axe : axis('equal'), et en affichant une grille : grid()."
   ]
  },
  {
   "cell_type": "markdown",
   "metadata": {},
   "source": [
    "Tracé des quantités de matière en fonction du volume de solution titrante versé :"
   ]
  },
  {
   "cell_type": "code",
   "execution_count": null,
   "metadata": {},
   "outputs": [],
   "source": [
    "subplot(1, 1, 1)    # lignes, colonnes, numéro du graphique\n",
    "\n",
    "plot(VB, nA, '-', label=f\"$n_{{{A}}}$\")    # abscisse, ordonnée, options : + o . , s points   - -- -. : lignes  b g r y m c k w couleurs ; label est la légende associée à la courbe\n",
    "plot(VB, nB, '-', label=f\"$n_{{{B}}}$\")\n",
    "plot(VB, nC, '-', label=f\"$n_{{{C}}}$\")\n",
    "\n",
    "grid()    # ajoute une grille\n",
    "legend()    # ajoute la légende au graphique\n",
    "title(\"Évolution des quantités au cours du titrage\")    # mettre le titre désiré entre les guillemets\n",
    "xlabel(\"$V_B$ (mL)\")    # mettre le nom de l'axe des abscisses entre les guillemets\n",
    "ylabel(\"$n$ (mol)\");    # mettre le nom de l'axe des ordonnées entre les guillemets. Le point-virgule final évite d'afficher un texte récapitulatif."
   ]
  },
  {
   "cell_type": "markdown",
   "metadata": {},
   "source": [
    "Valeurs des conductivités molaires ioniques :"
   ]
  },
  {
   "cell_type": "code",
   "execution_count": null,
   "metadata": {},
   "outputs": [],
   "source": [
    "LB = \n",
    "LC = \n",
    "LCatSpect = \n",
    "Vtot =     # volume initial de la solution titrée, tenir compte de l'éventuel d'ajout d'eau distillée"
   ]
  },
  {
   "cell_type": "markdown",
   "metadata": {},
   "source": [
    "Calcul des valeurs de la conductivité de la solution :\n",
    "\n",
    "Entrer la formule en fonction des quantités et des volumes"
   ]
  },
  {
   "cell_type": "code",
   "execution_count": null,
   "metadata": {},
   "outputs": [],
   "source": [
    "sigma = "
   ]
  },
  {
   "cell_type": "markdown",
   "metadata": {},
   "source": [
    "Tracé de l'évolution de la conductivité au cours du titrage :"
   ]
  },
  {
   "cell_type": "code",
   "execution_count": null,
   "metadata": {},
   "outputs": [],
   "source": [
    "subplot(1, 1, 1)    # lignes, colonnes, numéro du graphique\n",
    "\n",
    "plot(VB, sigma, '-', label=f\"Conductivité\")    # abscisse, ordonnée, options : + o . , s points   - -- -. : lignes  b g r y m c k w couleurs ; label est la légende associée à la courbe\n",
    "\n",
    "grid()    # ajoute une grille\n",
    "#legend()    # ajoute la légende au graphique\n",
    "title(\"Évolution de la conductivité  au cours du titrage\")    # mettre le titre désiré entre les guillemets\n",
    "xlabel(\"$V_B$ (mL)\")    # mettre le nom de l'axe des abscisses entre les guillemets\n",
    "ylabel(\"$\\sigma$ (mS/m)\");    # mettre le nom de l'axe des ordonnées entre les guillemets. Le point-virgule final évite d'afficher un texte récapitulatif."
   ]
  },
  {
   "cell_type": "markdown",
   "metadata": {
    "editable": true,
    "slideshow": {
     "slide_type": ""
    },
    "tags": []
   },
   "source": [
    "On commence par importer les bibliothèques nécessaires. Attention : NE PAS EFFACER !"
   ]
  }
 ],
 "metadata": {
  "kernelspec": {
   "display_name": "Python 3 (ipykernel)",
   "language": "python",
   "name": "python3"
  },
  "language_info": {
   "codemirror_mode": {
    "name": "ipython",
    "version": 3
   },
   "file_extension": ".py",
   "mimetype": "text/x-python",
   "name": "python",
   "nbconvert_exporter": "python",
   "pygments_lexer": "ipython3",
   "version": "3.10.6"
  },
  "widgets": {
   "application/vnd.jupyter.widget-state+json": {
    "state": {},
    "version_major": 2,
    "version_minor": 0
   }
  }
 },
 "nbformat": 4,
 "nbformat_minor": 4
}
